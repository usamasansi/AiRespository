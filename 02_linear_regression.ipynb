{
  "cells": [
    {
      "cell_type": "markdown",
      "metadata": {
        "id": "view-in-github",
        "colab_type": "text"
      },
      "source": [
        "<a href=\"https://colab.research.google.com/github/usamasansi/AiRespository/blob/main/02_linear_regression.ipynb\" target=\"_parent\"><img src=\"https://colab.research.google.com/assets/colab-badge.svg\" alt=\"Open In Colab\"/></a>"
      ]
    },
    {
      "cell_type": "code",
      "source": [
        "import numpy as np\n",
        "import torch\n"
      ],
      "metadata": {
        "id": "uVip-kYeUK_2"
      },
      "execution_count": 1,
      "outputs": []
    },
    {
      "cell_type": "code",
      "source": [
        "# input (temp, rainfall, humidity)\n",
        "inputs = np.array([[73, 67,43],\n",
        "                   [91,88,64],\n",
        "                   [87,134,58],\n",
        "                   [102,43,37],\n",
        "                   [69,96,70]],dtype='float32')"
      ],
      "metadata": {
        "id": "rcuHqXxcWPf-"
      },
      "execution_count": 2,
      "outputs": []
    },
    {
      "cell_type": "code",
      "source": [
        "\n",
        "# Targets (apples, oranges)\n",
        "targets = np.array([[56,70],\n",
        "                    [81,101],\n",
        "                    [119,133],\n",
        "                    [22,37],\n",
        "                    [103,119]], dtype='float32')"
      ],
      "metadata": {
        "id": "GLn__QgkXRQn"
      },
      "execution_count": 3,
      "outputs": []
    },
    {
      "cell_type": "code",
      "source": [
        "inputs = torch.from_numpy(inputs)\n",
        "targets = torch.from_numpy(targets)\n",
        "print(inputs)\n",
        "print(targets)"
      ],
      "metadata": {
        "colab": {
          "base_uri": "https://localhost:8080/"
        },
        "id": "QOP7QReMX4EL",
        "outputId": "1a03488f-e573-49d0-9a0a-2c16c864d556"
      },
      "execution_count": 4,
      "outputs": [
        {
          "output_type": "stream",
          "name": "stdout",
          "text": [
            "tensor([[ 73.,  67.,  43.],\n",
            "        [ 91.,  88.,  64.],\n",
            "        [ 87., 134.,  58.],\n",
            "        [102.,  43.,  37.],\n",
            "        [ 69.,  96.,  70.]])\n",
            "tensor([[ 56.,  70.],\n",
            "        [ 81., 101.],\n",
            "        [119., 133.],\n",
            "        [ 22.,  37.],\n",
            "        [103., 119.]])\n"
          ]
        }
      ]
    },
    {
      "cell_type": "code",
      "source": [
        "w = torch.randn(2,3,requires_grad=True)\n",
        "b = torch.randn(2,requires_grad=True)\n",
        "print(w)\n",
        "print(b)"
      ],
      "metadata": {
        "colab": {
          "base_uri": "https://localhost:8080/"
        },
        "id": "imShee6pY8Zk",
        "outputId": "adebda77-e19e-4bdc-9a59-c206d5afb168"
      },
      "execution_count": 5,
      "outputs": [
        {
          "output_type": "stream",
          "name": "stdout",
          "text": [
            "tensor([[ 1.0726,  0.7610,  0.1324],\n",
            "        [ 0.7208, -1.5128,  1.1389]], requires_grad=True)\n",
            "tensor([ 1.2830, -0.2921], requires_grad=True)\n"
          ]
        }
      ]
    },
    {
      "cell_type": "code",
      "source": [
        "w.t()"
      ],
      "metadata": {
        "colab": {
          "base_uri": "https://localhost:8080/"
        },
        "id": "kwME7MI7aYGY",
        "outputId": "026b3c02-5d78-4d17-9476-22c09d559c11"
      },
      "execution_count": 6,
      "outputs": [
        {
          "output_type": "execute_result",
          "data": {
            "text/plain": [
              "tensor([[ 1.0726,  0.7208],\n",
              "        [ 0.7610, -1.5128],\n",
              "        [ 0.1324,  1.1389]], grad_fn=<TBackward0>)"
            ]
          },
          "metadata": {},
          "execution_count": 6
        }
      ]
    },
    {
      "cell_type": "code",
      "source": [
        "b.t()"
      ],
      "metadata": {
        "colab": {
          "base_uri": "https://localhost:8080/"
        },
        "id": "XZd65VftfQgq",
        "outputId": "7b8c9dd3-4f12-4509-d8d5-28b06243dbcc"
      },
      "execution_count": 7,
      "outputs": [
        {
          "output_type": "execute_result",
          "data": {
            "text/plain": [
              "tensor([ 1.2830, -0.2921], grad_fn=<TBackward0>)"
            ]
          },
          "metadata": {},
          "execution_count": 7
        }
      ]
    },
    {
      "cell_type": "code",
      "source": [
        "inputs"
      ],
      "metadata": {
        "colab": {
          "base_uri": "https://localhost:8080/"
        },
        "id": "YxVwVjy9fY9B",
        "outputId": "c86aed86-5c38-4bfa-f707-26324fc73426"
      },
      "execution_count": 8,
      "outputs": [
        {
          "output_type": "execute_result",
          "data": {
            "text/plain": [
              "tensor([[ 73.,  67.,  43.],\n",
              "        [ 91.,  88.,  64.],\n",
              "        [ 87., 134.,  58.],\n",
              "        [102.,  43.,  37.],\n",
              "        [ 69.,  96.,  70.]])"
            ]
          },
          "metadata": {},
          "execution_count": 8
        }
      ]
    },
    {
      "cell_type": "code",
      "source": [
        "inputs @ w.t() + b"
      ],
      "metadata": {
        "colab": {
          "base_uri": "https://localhost:8080/"
        },
        "id": "w5Po1mVcfm-6",
        "outputId": "08e3824a-67ed-41ed-9a87-273a9507bc47"
      },
      "execution_count": 9,
      "outputs": [
        {
          "output_type": "execute_result",
          "data": {
            "text/plain": [
              "tensor([[ 1.3627e+02, -5.9982e-02],\n",
              "        [ 1.7434e+02,  5.0617e+00],\n",
              "        [ 2.0426e+02, -7.4246e+01],\n",
              "        [ 1.4832e+02,  5.0320e+01],\n",
              "        [ 1.5762e+02, -1.6066e+01]], grad_fn=<AddBackward0>)"
            ]
          },
          "metadata": {},
          "execution_count": 9
        }
      ]
    },
    {
      "cell_type": "code",
      "source": [
        "def model(x):\n",
        "    return x @ w.t() + b"
      ],
      "metadata": {
        "id": "B3n040tYftKh"
      },
      "execution_count": 10,
      "outputs": []
    },
    {
      "cell_type": "code",
      "source": [
        "preds = model(inputs)\n",
        "print(preds)\n"
      ],
      "metadata": {
        "colab": {
          "base_uri": "https://localhost:8080/"
        },
        "id": "5tz-1b0A_mRm",
        "outputId": "aa83a897-e7e3-4d21-f3bb-450d0586d579"
      },
      "execution_count": 11,
      "outputs": [
        {
          "output_type": "stream",
          "name": "stdout",
          "text": [
            "tensor([[ 1.3627e+02, -5.9982e-02],\n",
            "        [ 1.7434e+02,  5.0617e+00],\n",
            "        [ 2.0426e+02, -7.4246e+01],\n",
            "        [ 1.4832e+02,  5.0320e+01],\n",
            "        [ 1.5762e+02, -1.6066e+01]], grad_fn=<AddBackward0>)\n"
          ]
        }
      ]
    },
    {
      "cell_type": "code",
      "source": [
        "#compare with target\n",
        "print(targets)"
      ],
      "metadata": {
        "colab": {
          "base_uri": "https://localhost:8080/"
        },
        "id": "JQx9EphBB7O3",
        "outputId": "5080ffd8-7ae2-4513-fbc6-6b617f02cc20"
      },
      "execution_count": 12,
      "outputs": [
        {
          "output_type": "stream",
          "name": "stdout",
          "text": [
            "tensor([[ 56.,  70.],\n",
            "        [ 81., 101.],\n",
            "        [119., 133.],\n",
            "        [ 22.,  37.],\n",
            "        [103., 119.]])\n"
          ]
        }
      ]
    },
    {
      "cell_type": "code",
      "source": [
        "preds - targets"
      ],
      "metadata": {
        "colab": {
          "base_uri": "https://localhost:8080/"
        },
        "id": "vvHPwekiDjD-",
        "outputId": "4d19ae35-935e-4d64-b796-fb09163c0d2c"
      },
      "execution_count": 13,
      "outputs": [
        {
          "output_type": "execute_result",
          "data": {
            "text/plain": [
              "tensor([[  80.2676,  -70.0600],\n",
              "        [  93.3375,  -95.9383],\n",
              "        [  85.2581, -207.2459],\n",
              "        [ 126.3155,   13.3196],\n",
              "        [  54.6221, -135.0664]], grad_fn=<SubBackward0>)"
            ]
          },
          "metadata": {},
          "execution_count": 13
        }
      ]
    },
    {
      "cell_type": "code",
      "source": [
        "diff = preds - targets\n",
        "torch.sum(diff * diff) / diff.numel()"
      ],
      "metadata": {
        "colab": {
          "base_uri": "https://localhost:8080/"
        },
        "id": "Ax5jGLsaWCWZ",
        "outputId": "14ec807f-6db0-4313-f767-a7468c4d0226"
      },
      "execution_count": 14,
      "outputs": [
        {
          "output_type": "execute_result",
          "data": {
            "text/plain": [
              "tensor(11684.6709, grad_fn=<DivBackward0>)"
            ]
          },
          "metadata": {},
          "execution_count": 14
        }
      ]
    },
    {
      "cell_type": "code",
      "source": [
        "# mse loss\n",
        "def mse(t1,t2):\n",
        "  diff = t1 - t2\n",
        "  return torch.sum(diff * diff) /diff.numel()"
      ],
      "metadata": {
        "id": "kNVuncN_CScV"
      },
      "execution_count": 15,
      "outputs": []
    },
    {
      "cell_type": "code",
      "source": [
        "# compute loss\n",
        "loss = mse(preds, targets)\n",
        "print(loss)\n",
        "# sqrt 249.87"
      ],
      "metadata": {
        "colab": {
          "base_uri": "https://localhost:8080/"
        },
        "id": "kbWd_iwEV9s_",
        "outputId": "20bfadbe-7e15-4227-994b-af34eba17df2"
      },
      "execution_count": 16,
      "outputs": [
        {
          "output_type": "stream",
          "name": "stdout",
          "text": [
            "tensor(11684.6709, grad_fn=<DivBackward0>)\n"
          ]
        }
      ]
    },
    {
      "cell_type": "code",
      "source": [
        "# compute gradeinet  such as autograd in pytorch\n",
        "loss.backward()"
      ],
      "metadata": {
        "id": "lorZFDG4byNn"
      },
      "execution_count": 17,
      "outputs": []
    },
    {
      "cell_type": "code",
      "source": [
        "# gradients for weight\n",
        "print(w)\n",
        "print(w.grad)\n"
      ],
      "metadata": {
        "colab": {
          "base_uri": "https://localhost:8080/"
        },
        "id": "Dx70o8wfcg6H",
        "outputId": "df3c3570-f0c4-4600-ba27-3729e10c1d31"
      },
      "execution_count": 18,
      "outputs": [
        {
          "output_type": "stream",
          "name": "stdout",
          "text": [
            "tensor([[ 1.0726,  0.7610,  0.1324],\n",
            "        [ 0.7208, -1.5128,  1.1389]], requires_grad=True)\n",
            "tensor([[  7684.7627,   7138.3018,   4573.4604],\n",
            "        [ -7967.2305, -10660.2373,  -6026.9448]])\n"
          ]
        }
      ]
    },
    {
      "cell_type": "code",
      "source": [
        "print(inputs)\n",
        "print(inputs.grad)"
      ],
      "metadata": {
        "colab": {
          "base_uri": "https://localhost:8080/"
        },
        "id": "wsxcRAxrhu3y",
        "outputId": "ae9351d2-3ae5-4de0-e501-d93393f3a03e"
      },
      "execution_count": 19,
      "outputs": [
        {
          "output_type": "stream",
          "name": "stdout",
          "text": [
            "tensor([[ 73.,  67.,  43.],\n",
            "        [ 91.,  88.,  64.],\n",
            "        [ 87., 134.,  58.],\n",
            "        [102.,  43.,  37.],\n",
            "        [ 69.,  96.,  70.]])\n",
            "None\n"
          ]
        }
      ]
    },
    {
      "cell_type": "code",
      "source": [
        "print(b)\n",
        "print(b.grad)"
      ],
      "metadata": {
        "colab": {
          "base_uri": "https://localhost:8080/"
        },
        "id": "JnhJqvlceFVh",
        "outputId": "983b0601-9846-4906-bdce-9a39a2d865fd"
      },
      "execution_count": 20,
      "outputs": [
        {
          "output_type": "stream",
          "name": "stdout",
          "text": [
            "tensor([ 1.2830, -0.2921], requires_grad=True)\n",
            "tensor([ 87.9602, -98.9982])\n"
          ]
        }
      ]
    },
    {
      "cell_type": "code",
      "source": [
        "w.grad"
      ],
      "metadata": {
        "colab": {
          "base_uri": "https://localhost:8080/"
        },
        "id": "gvWtLY4EhiXg",
        "outputId": "edc126a6-2efd-423f-9c55-1d8a4beb03d9"
      },
      "execution_count": 21,
      "outputs": [
        {
          "output_type": "execute_result",
          "data": {
            "text/plain": [
              "tensor([[  7684.7627,   7138.3018,   4573.4604],\n",
              "        [ -7967.2305, -10660.2373,  -6026.9448]])"
            ]
          },
          "metadata": {},
          "execution_count": 21
        }
      ]
    },
    {
      "cell_type": "code",
      "source": [
        "w.grad.zero_()\n",
        "b.grad.zero_()\n",
        "print(w.grad)\n",
        "print(b.grad)"
      ],
      "metadata": {
        "colab": {
          "base_uri": "https://localhost:8080/"
        },
        "id": "fX_XZDOS2gPc",
        "outputId": "77fc86d0-29b2-4fef-b68e-d0023a1e528e"
      },
      "execution_count": 22,
      "outputs": [
        {
          "output_type": "stream",
          "name": "stdout",
          "text": [
            "tensor([[0., 0., 0.],\n",
            "        [0., 0., 0.]])\n",
            "tensor([0., 0.])\n"
          ]
        }
      ]
    },
    {
      "cell_type": "code",
      "source": [
        "#adjust weight and biases using gradient descent\n",
        "# grrnral prediction\n",
        "preds = model(inputs)\n",
        "print(preds)\n",
        "# calculate the loss\n",
        "loss = mse(preds, targets)\n",
        "print(loss)"
      ],
      "metadata": {
        "colab": {
          "base_uri": "https://localhost:8080/"
        },
        "id": "FUS8oq6k2vC7",
        "outputId": "e4df70e9-f26c-4b7b-8b09-07f2c036ef74"
      },
      "execution_count": 23,
      "outputs": [
        {
          "output_type": "stream",
          "name": "stdout",
          "text": [
            "tensor([[ 1.3627e+02, -5.9982e-02],\n",
            "        [ 1.7434e+02,  5.0617e+00],\n",
            "        [ 2.0426e+02, -7.4246e+01],\n",
            "        [ 1.4832e+02,  5.0320e+01],\n",
            "        [ 1.5762e+02, -1.6066e+01]], grad_fn=<AddBackward0>)\n",
            "tensor(11684.6709, grad_fn=<DivBackward0>)\n"
          ]
        }
      ]
    },
    {
      "cell_type": "code",
      "source": [
        "# calculate the loss\n",
        "loss = mse(preds, targets)\n",
        "print(loss)"
      ],
      "metadata": {
        "colab": {
          "base_uri": "https://localhost:8080/"
        },
        "id": "ZmZRbzJl4OA_",
        "outputId": "1e1a349a-ae50-4f00-e318-898219091de1"
      },
      "execution_count": 24,
      "outputs": [
        {
          "output_type": "stream",
          "name": "stdout",
          "text": [
            "tensor(11684.6709, grad_fn=<DivBackward0>)\n"
          ]
        }
      ]
    },
    {
      "cell_type": "code",
      "source": [
        "# compute losss\n",
        "loss.backward()\n",
        "print(w.grad)\n",
        "print(b.grad)"
      ],
      "metadata": {
        "colab": {
          "base_uri": "https://localhost:8080/"
        },
        "id": "42zJVxb-3GUU",
        "outputId": "0bc79e86-6296-406d-fa60-7f0acc764270"
      },
      "execution_count": 25,
      "outputs": [
        {
          "output_type": "stream",
          "name": "stdout",
          "text": [
            "tensor([[  7684.7627,   7138.3018,   4573.4604],\n",
            "        [ -7967.2305, -10660.2373,  -6026.9448]])\n",
            "tensor([ 87.9602, -98.9982])\n"
          ]
        }
      ]
    },
    {
      "cell_type": "code",
      "source": [
        "w"
      ],
      "metadata": {
        "colab": {
          "base_uri": "https://localhost:8080/"
        },
        "id": "rMhyGiFMEnYF",
        "outputId": "cc5fa542-d84b-4540-dcbf-08a7d08690a6"
      },
      "execution_count": 26,
      "outputs": [
        {
          "output_type": "execute_result",
          "data": {
            "text/plain": [
              "tensor([[ 1.0726,  0.7610,  0.1324],\n",
              "        [ 0.7208, -1.5128,  1.1389]], requires_grad=True)"
            ]
          },
          "metadata": {},
          "execution_count": 26
        }
      ]
    },
    {
      "cell_type": "code",
      "source": [
        "w.grad * 1e-5"
      ],
      "metadata": {
        "colab": {
          "base_uri": "https://localhost:8080/"
        },
        "id": "ahPD5ZuZDelc",
        "outputId": "e955260c-3704-4ac8-ffa4-b5586a157220"
      },
      "execution_count": 27,
      "outputs": [
        {
          "output_type": "execute_result",
          "data": {
            "text/plain": [
              "tensor([[ 0.0768,  0.0714,  0.0457],\n",
              "        [-0.0797, -0.1066, -0.0603]])"
            ]
          },
          "metadata": {},
          "execution_count": 27
        }
      ]
    },
    {
      "cell_type": "code",
      "source": [
        "# Adjust weight and  reset gradeint\n",
        "with torch.no_grad():\n",
        "  w -= w.grad * 1e-5\n",
        "  b -= b.grad * 1e-5\n",
        "  w.grad.zero_()\n",
        "  b.grad.zero_()"
      ],
      "metadata": {
        "id": "f0ixQr9v38vr"
      },
      "execution_count": 28,
      "outputs": []
    },
    {
      "cell_type": "code",
      "source": [
        "print(w)\n",
        "print(b)"
      ],
      "metadata": {
        "colab": {
          "base_uri": "https://localhost:8080/"
        },
        "id": "8DfwiXv64xbp",
        "outputId": "217c3e86-3250-4fba-a32b-47a58d782aab"
      },
      "execution_count": 29,
      "outputs": [
        {
          "output_type": "stream",
          "name": "stdout",
          "text": [
            "tensor([[ 0.9958,  0.6896,  0.0867],\n",
            "        [ 0.8005, -1.4062,  1.1991]], requires_grad=True)\n",
            "tensor([ 1.2821, -0.2911], requires_grad=True)\n"
          ]
        }
      ]
    },
    {
      "cell_type": "code",
      "source": [
        "# again calculate loss\n",
        "preds = model(inputs)\n",
        "loss =- mse(preds, targets)\n",
        "print(loss)"
      ],
      "metadata": {
        "colab": {
          "base_uri": "https://localhost:8080/"
        },
        "id": "pL52VdexH-K8",
        "outputId": "333b8cd0-8549-46bb-cdec-7d51309256b4"
      },
      "execution_count": 30,
      "outputs": [
        {
          "output_type": "stream",
          "name": "stdout",
          "text": [
            "tensor(-8546.9053, grad_fn=<NegBackward0>)\n"
          ]
        }
      ]
    },
    {
      "cell_type": "code",
      "source": [
        "# train for 100 epochs\n",
        "for i in range(100):\n",
        "  preds = model(inputs)\n",
        "  loss = mse(preds, targets)\n",
        "  loss.backward()\n",
        "  with torch.no_grad():\n",
        "    w -= w.grad * 1e-5\n",
        "    b -= b.grad * 1e-5\n",
        "    w.grad.zero_()\n",
        "    b.grad.zero_()"
      ],
      "metadata": {
        "id": "WP4tCkM1IlNN"
      },
      "execution_count": 31,
      "outputs": []
    },
    {
      "cell_type": "code",
      "source": [
        "# calculate loss agin\n",
        "preds = model(inputs)\n",
        "loss = mse(preds, targets)\n",
        "print(loss)"
      ],
      "metadata": {
        "colab": {
          "base_uri": "https://localhost:8080/"
        },
        "id": "oluYxm5rKAed",
        "outputId": "3db6045e-50d8-4e55-cb08-a9a2d7234532"
      },
      "execution_count": 32,
      "outputs": [
        {
          "output_type": "stream",
          "name": "stdout",
          "text": [
            "tensor(627.2233, grad_fn=<DivBackward0>)\n"
          ]
        }
      ]
    },
    {
      "cell_type": "code",
      "source": [
        "# prediction?\n",
        "preds"
      ],
      "metadata": {
        "colab": {
          "base_uri": "https://localhost:8080/"
        },
        "id": "PIJrEcSHKMVx",
        "outputId": "6af40326-decb-4fbd-bf9b-950a0a4ab8d2"
      },
      "execution_count": 33,
      "outputs": [
        {
          "output_type": "execute_result",
          "data": {
            "text/plain": [
              "tensor([[ 63.0021,  79.0277],\n",
              "        [ 81.0781, 112.9693],\n",
              "        [111.8804,  90.9691],\n",
              "        [ 53.2557,  88.6186],\n",
              "        [ 81.4326, 110.3630]], grad_fn=<AddBackward0>)"
            ]
          },
          "metadata": {},
          "execution_count": 33
        }
      ]
    },
    {
      "cell_type": "code",
      "source": [
        "targets"
      ],
      "metadata": {
        "colab": {
          "base_uri": "https://localhost:8080/"
        },
        "id": "fRoWzNdHKYzA",
        "outputId": "9efa9277-1086-404c-8b5b-13a7acd5c1ee"
      },
      "execution_count": 34,
      "outputs": [
        {
          "output_type": "execute_result",
          "data": {
            "text/plain": [
              "tensor([[ 56.,  70.],\n",
              "        [ 81., 101.],\n",
              "        [119., 133.],\n",
              "        [ 22.,  37.],\n",
              "        [103., 119.]])"
            ]
          },
          "metadata": {},
          "execution_count": 34
        }
      ]
    },
    {
      "cell_type": "markdown",
      "source": [
        "**used linear regression and gradient descent with basic tensor operation above**"
      ],
      "metadata": {
        "id": "heVl9oBgLdtk"
      }
    },
    {
      "cell_type": "markdown",
      "source": [],
      "metadata": {
        "id": "8Ep4oBTiLdlm"
      }
    },
    {
      "cell_type": "markdown",
      "source": [
        "*now we are going to implement pytorch linear regression*"
      ],
      "metadata": {
        "id": "P5hqBw_1L21X"
      }
    },
    {
      "cell_type": "code",
      "source": [
        "import torch.nn as nn"
      ],
      "metadata": {
        "id": "lZMsXzzWKa1e"
      },
      "execution_count": 35,
      "outputs": []
    },
    {
      "cell_type": "code",
      "source": [
        "# inputs (temp, rainfall, humidity)\n",
        "inputs =  np.array([[73, 67, 43],\n",
        "                    [91, 88, 64],\n",
        "                    [87, 134, 58],\n",
        "                    [102,43,37],\n",
        "                    [69,96,70],\n",
        "                    [74,55,43],\n",
        "                    [91,87,65],\n",
        "                    [88,134,59],\n",
        "                    [101,44,37],\n",
        "                    [68,96,71],\n",
        "                    [73,66,44],\n",
        "                    [92,87,64],\n",
        "                    [87,135,57],\n",
        "                    [103,43,36],\n",
        "                    [68,97,70]],dtype='float32')"
      ],
      "metadata": {
        "id": "feAbDHrtMFb2"
      },
      "execution_count": 36,
      "outputs": []
    },
    {
      "cell_type": "code",
      "source": [
        "targets = np.array([[56, 70],\n",
        "                    [81, 101],\n",
        "                    [119,133],\n",
        "                    [22, 37],\n",
        "                    [103, 119],\n",
        "                    [57,69],\n",
        "                    [80,102],\n",
        "                    [118,132],\n",
        "                    [21, 38],\n",
        "                    [104,118],\n",
        "                    [57,69],\n",
        "                    [82,100],\n",
        "                    [118,134],\n",
        "                    [20,38],\n",
        "                    [102,120]],dtype='float32')\n",
        "inputs =torch.from_numpy(inputs)\n",
        "targets =torch.from_numpy(targets)"
      ],
      "metadata": {
        "id": "PtZDMFZ7OtSH"
      },
      "execution_count": 37,
      "outputs": []
    },
    {
      "cell_type": "code",
      "source": [
        "inputs"
      ],
      "metadata": {
        "colab": {
          "base_uri": "https://localhost:8080/"
        },
        "id": "RCdPWHgPeSgM",
        "outputId": "f892621b-7dd7-46d6-bd01-55f4e6a2f75b"
      },
      "execution_count": 38,
      "outputs": [
        {
          "output_type": "execute_result",
          "data": {
            "text/plain": [
              "tensor([[ 73.,  67.,  43.],\n",
              "        [ 91.,  88.,  64.],\n",
              "        [ 87., 134.,  58.],\n",
              "        [102.,  43.,  37.],\n",
              "        [ 69.,  96.,  70.],\n",
              "        [ 74.,  55.,  43.],\n",
              "        [ 91.,  87.,  65.],\n",
              "        [ 88., 134.,  59.],\n",
              "        [101.,  44.,  37.],\n",
              "        [ 68.,  96.,  71.],\n",
              "        [ 73.,  66.,  44.],\n",
              "        [ 92.,  87.,  64.],\n",
              "        [ 87., 135.,  57.],\n",
              "        [103.,  43.,  36.],\n",
              "        [ 68.,  97.,  70.]])"
            ]
          },
          "metadata": {},
          "execution_count": 38
        }
      ]
    },
    {
      "cell_type": "code",
      "source": [
        "targets"
      ],
      "metadata": {
        "colab": {
          "base_uri": "https://localhost:8080/"
        },
        "id": "vEMetxhnepuk",
        "outputId": "8db53606-a235-4490-e3b3-b99ed019e3b7"
      },
      "execution_count": 39,
      "outputs": [
        {
          "output_type": "execute_result",
          "data": {
            "text/plain": [
              "tensor([[ 56.,  70.],\n",
              "        [ 81., 101.],\n",
              "        [119., 133.],\n",
              "        [ 22.,  37.],\n",
              "        [103., 119.],\n",
              "        [ 57.,  69.],\n",
              "        [ 80., 102.],\n",
              "        [118., 132.],\n",
              "        [ 21.,  38.],\n",
              "        [104., 118.],\n",
              "        [ 57.,  69.],\n",
              "        [ 82., 100.],\n",
              "        [118., 134.],\n",
              "        [ 20.,  38.],\n",
              "        [102., 120.]])"
            ]
          },
          "metadata": {},
          "execution_count": 39
        }
      ]
    },
    {
      "cell_type": "code",
      "source": [
        "from torch.utils.data import TensorDataset"
      ],
      "metadata": {
        "id": "C2oCiUYKeqvG"
      },
      "execution_count": 40,
      "outputs": []
    },
    {
      "cell_type": "code",
      "source": [
        "train_ds  = TensorDataset(inputs, targets)\n",
        "train_ds[0:3]"
      ],
      "metadata": {
        "colab": {
          "base_uri": "https://localhost:8080/"
        },
        "id": "9gK5JykVfLs6",
        "outputId": "b82278b0-0b76-4fd8-e89f-1df4a49483e3"
      },
      "execution_count": 41,
      "outputs": [
        {
          "output_type": "execute_result",
          "data": {
            "text/plain": [
              "(tensor([[ 73.,  67.,  43.],\n",
              "         [ 91.,  88.,  64.],\n",
              "         [ 87., 134.,  58.]]),\n",
              " tensor([[ 56.,  70.],\n",
              "         [ 81., 101.],\n",
              "         [119., 133.]]))"
            ]
          },
          "metadata": {},
          "execution_count": 41
        }
      ]
    },
    {
      "cell_type": "code",
      "source": [
        "from torch.utils.data import DataLoader"
      ],
      "metadata": {
        "id": "d-iZ6pLQp3DB"
      },
      "execution_count": 42,
      "outputs": []
    },
    {
      "cell_type": "code",
      "source": [
        "# define dataloader\n",
        "batch_size = 5\n",
        "train_dl = DataLoader(train_ds, batch_size, shuffle=True)"
      ],
      "metadata": {
        "id": "YMNUGMiZq8zB"
      },
      "execution_count": 43,
      "outputs": []
    },
    {
      "cell_type": "code",
      "source": [
        "inputs"
      ],
      "metadata": {
        "colab": {
          "base_uri": "https://localhost:8080/"
        },
        "id": "PLoHcSa4rN6e",
        "outputId": "a280d648-1787-4272-ce42-9d48c9cf98e1"
      },
      "execution_count": 44,
      "outputs": [
        {
          "output_type": "execute_result",
          "data": {
            "text/plain": [
              "tensor([[ 73.,  67.,  43.],\n",
              "        [ 91.,  88.,  64.],\n",
              "        [ 87., 134.,  58.],\n",
              "        [102.,  43.,  37.],\n",
              "        [ 69.,  96.,  70.],\n",
              "        [ 74.,  55.,  43.],\n",
              "        [ 91.,  87.,  65.],\n",
              "        [ 88., 134.,  59.],\n",
              "        [101.,  44.,  37.],\n",
              "        [ 68.,  96.,  71.],\n",
              "        [ 73.,  66.,  44.],\n",
              "        [ 92.,  87.,  64.],\n",
              "        [ 87., 135.,  57.],\n",
              "        [103.,  43.,  36.],\n",
              "        [ 68.,  97.,  70.]])"
            ]
          },
          "metadata": {},
          "execution_count": 44
        }
      ]
    },
    {
      "cell_type": "code",
      "source": [
        "for xb, yb in train_dl:\n",
        "  print(xb)\n",
        "  print(yb)\n",
        "  break"
      ],
      "metadata": {
        "colab": {
          "base_uri": "https://localhost:8080/"
        },
        "id": "8MdHUf2crRRT",
        "outputId": "27f54755-8202-4d28-9bf2-d719c3b1e799"
      },
      "execution_count": 45,
      "outputs": [
        {
          "output_type": "stream",
          "name": "stdout",
          "text": [
            "tensor([[ 69.,  96.,  70.],\n",
            "        [ 68.,  97.,  70.],\n",
            "        [ 73.,  67.,  43.],\n",
            "        [ 87., 135.,  57.],\n",
            "        [ 74.,  55.,  43.]])\n",
            "tensor([[103., 119.],\n",
            "        [102., 120.],\n",
            "        [ 56.,  70.],\n",
            "        [118., 134.],\n",
            "        [ 57.,  69.]])\n"
          ]
        }
      ]
    },
    {
      "cell_type": "code",
      "source": [
        "# define model\n",
        "model = nn.Linear(3,2)\n",
        "print(model.weight)\n",
        "print(model.bias)"
      ],
      "metadata": {
        "colab": {
          "base_uri": "https://localhost:8080/"
        },
        "id": "bYSTbENdroWx",
        "outputId": "6763e02e-51ad-49a9-fcd0-7eece0e5b4ca"
      },
      "execution_count": 46,
      "outputs": [
        {
          "output_type": "stream",
          "name": "stdout",
          "text": [
            "Parameter containing:\n",
            "tensor([[-0.4614, -0.0882,  0.1393],\n",
            "        [-0.3080, -0.1971,  0.5699]], requires_grad=True)\n",
            "Parameter containing:\n",
            "tensor([-0.3469,  0.1785], requires_grad=True)\n"
          ]
        }
      ]
    },
    {
      "cell_type": "code",
      "source": [
        "#p[ara,meters\n",
        "list(model.parameters())"
      ],
      "metadata": {
        "colab": {
          "base_uri": "https://localhost:8080/"
        },
        "id": "hf_JyYzgScsP",
        "outputId": "657fa949-4411-4186-80d2-14b6aa0b90f4"
      },
      "execution_count": 47,
      "outputs": [
        {
          "output_type": "execute_result",
          "data": {
            "text/plain": [
              "[Parameter containing:\n",
              " tensor([[-0.4614, -0.0882,  0.1393],\n",
              "         [-0.3080, -0.1971,  0.5699]], requires_grad=True),\n",
              " Parameter containing:\n",
              " tensor([-0.3469,  0.1785], requires_grad=True)]"
            ]
          },
          "metadata": {},
          "execution_count": 47
        }
      ]
    },
    {
      "cell_type": "code",
      "source": [
        "# generate prediction\n",
        "preds = model(inputs)\n",
        "preds"
      ],
      "metadata": {
        "colab": {
          "base_uri": "https://localhost:8080/"
        },
        "id": "7VjhLoVSgJcW",
        "outputId": "11e95414-d915-4381-fbf5-303b5ff7e880"
      },
      "execution_count": 48,
      "outputs": [
        {
          "output_type": "execute_result",
          "data": {
            "text/plain": [
              "tensor([[-3.3948e+01, -1.1001e+01],\n",
              "        [-4.1180e+01, -8.7142e+00],\n",
              "        [-4.4226e+01, -1.9966e+01],\n",
              "        [-4.6048e+01, -1.8623e+01],\n",
              "        [-3.0899e+01, -9.5280e-02],\n",
              "        [-3.3351e+01, -8.9440e+00],\n",
              "        [-4.0952e+01, -7.9472e+00],\n",
              "        [-4.4548e+01, -1.9704e+01],\n",
              "        [-4.5674e+01, -1.8512e+01],\n",
              "        [-3.0298e+01,  7.8264e-01],\n",
              "        [-3.3720e+01, -1.0234e+01],\n",
              "        [-4.1553e+01, -8.8251e+00],\n",
              "        [-4.4454e+01, -2.0733e+01],\n",
              "        [-4.6648e+01, -1.9501e+01],\n",
              "        [-3.0525e+01,  1.5659e-02]], grad_fn=<AddmmBackward0>)"
            ]
          },
          "metadata": {},
          "execution_count": 48
        }
      ]
    },
    {
      "cell_type": "code",
      "source": [
        "targets"
      ],
      "metadata": {
        "colab": {
          "base_uri": "https://localhost:8080/"
        },
        "id": "OPdYojqbgRa2",
        "outputId": "ef8750f8-ad39-42f3-8432-cc6b4e474444"
      },
      "execution_count": 49,
      "outputs": [
        {
          "output_type": "execute_result",
          "data": {
            "text/plain": [
              "tensor([[ 56.,  70.],\n",
              "        [ 81., 101.],\n",
              "        [119., 133.],\n",
              "        [ 22.,  37.],\n",
              "        [103., 119.],\n",
              "        [ 57.,  69.],\n",
              "        [ 80., 102.],\n",
              "        [118., 132.],\n",
              "        [ 21.,  38.],\n",
              "        [104., 118.],\n",
              "        [ 57.,  69.],\n",
              "        [ 82., 100.],\n",
              "        [118., 134.],\n",
              "        [ 20.,  38.],\n",
              "        [102., 120.]])"
            ]
          },
          "metadata": {},
          "execution_count": 49
        }
      ]
    },
    {
      "cell_type": "code",
      "source": [
        "# import nn.functional\n",
        "import torch.nn.functional as F"
      ],
      "metadata": {
        "id": "MqmBB3fXhCTH"
      },
      "execution_count": 50,
      "outputs": []
    },
    {
      "cell_type": "code",
      "source": [
        "# Define loss functiomn\n",
        "loss_fn = F.mse_loss"
      ],
      "metadata": {
        "id": "eqpeKd0yhUlH"
      },
      "execution_count": 51,
      "outputs": []
    },
    {
      "cell_type": "code",
      "source": [
        "loss = loss_fn(model(inputs), targets)\n",
        "print (loss)"
      ],
      "metadata": {
        "colab": {
          "base_uri": "https://localhost:8080/"
        },
        "id": "skggYXBjhqVZ",
        "outputId": "c847aa2a-486f-4d43-c627-1cf40e6ca55d"
      },
      "execution_count": 52,
      "outputs": [
        {
          "output_type": "stream",
          "name": "stdout",
          "text": [
            "tensor(13098.6562, grad_fn=<MseLossBackward0>)\n"
          ]
        }
      ]
    },
    {
      "cell_type": "code",
      "source": [
        "# define optimi\\zer\n",
        "opt = torch.optim.SGD(model.parameters(), lr=1e-5)"
      ],
      "metadata": {
        "id": "IV0MdoTfhzmr"
      },
      "execution_count": 53,
      "outputs": []
    },
    {
      "cell_type": "code",
      "source": [
        "# utility function to train the mpodel\n",
        "def fit(num_epochs, model, loss_fn, opt, train_dl):\n",
        "  # rapeat for given number of epechs\n",
        "  for epoch in range(num_epochs):\n",
        "    # train with batches of data?\n",
        "    for xb, yb in train_dl:\n",
        "      # geneerate prediction #1\n",
        "      pred = model(xb)\n",
        "\n",
        "      # calulate loss\n",
        "      loss = loss_fn(pred, yb)\n",
        "      # compute gradinencs?\n",
        "      loss.backward()\n",
        "      #  update parameters using gradients\n",
        "      opt.step()\n",
        "      #reset gradient to zero\n",
        "      opt.zero_grad()\n",
        "\n",
        "      # print the progress\n",
        "  if (epoch + 1) % 10 == 0:\n",
        "   print('Epoch [{}/{}], loss: {:.4f}'.format(epoch+1, num_epochs,loss.item()))\n"
      ],
      "metadata": {
        "id": "YjBIqXjrilp9"
      },
      "execution_count": 54,
      "outputs": []
    },
    {
      "cell_type": "code",
      "source": [
        "fit(100, model, loss_fn, opt, train_dl)"
      ],
      "metadata": {
        "colab": {
          "base_uri": "https://localhost:8080/"
        },
        "id": "9EO5WC3KnW-X",
        "outputId": "0b01c091-18cc-4230-f806-56b1b5935af4"
      },
      "execution_count": 55,
      "outputs": [
        {
          "output_type": "stream",
          "name": "stdout",
          "text": [
            "Epoch [100/100], loss: 13.7441\n"
          ]
        }
      ]
    },
    {
      "cell_type": "code",
      "source": [
        "preds = model(inputs)\n",
        "preds"
      ],
      "metadata": {
        "id": "lvm5yit6u5FA",
        "outputId": "710b81de-4944-4f6d-f94b-ec31ac894206",
        "colab": {
          "base_uri": "https://localhost:8080/"
        }
      },
      "execution_count": 56,
      "outputs": [
        {
          "output_type": "execute_result",
          "data": {
            "text/plain": [
              "tensor([[ 58.0365,  71.4660],\n",
              "        [ 82.2561, 101.9067],\n",
              "        [117.6664, 129.6966],\n",
              "        [ 26.0383,  42.4902],\n",
              "        [ 99.0105, 118.0276],\n",
              "        [ 47.8865,  62.7660],\n",
              "        [ 82.0268, 102.1329],\n",
              "        [117.9559, 130.4080],\n",
              "        [ 27.1608,  43.4182],\n",
              "        [ 99.9038, 119.1819],\n",
              "        [ 57.8072,  71.6922],\n",
              "        [ 81.1336, 100.9787],\n",
              "        [117.8957, 129.4703],\n",
              "        [ 25.1451,  41.3360],\n",
              "        [100.1331, 118.9556]], grad_fn=<AddmmBackward0>)"
            ]
          },
          "metadata": {},
          "execution_count": 56
        }
      ]
    },
    {
      "cell_type": "code",
      "source": [
        "targets\n"
      ],
      "metadata": {
        "id": "jXbbWZ5xvZLt",
        "outputId": "29d48411-027f-4390-fae9-7781dce52059",
        "colab": {
          "base_uri": "https://localhost:8080/"
        }
      },
      "execution_count": 57,
      "outputs": [
        {
          "output_type": "execute_result",
          "data": {
            "text/plain": [
              "tensor([[ 56.,  70.],\n",
              "        [ 81., 101.],\n",
              "        [119., 133.],\n",
              "        [ 22.,  37.],\n",
              "        [103., 119.],\n",
              "        [ 57.,  69.],\n",
              "        [ 80., 102.],\n",
              "        [118., 132.],\n",
              "        [ 21.,  38.],\n",
              "        [104., 118.],\n",
              "        [ 57.,  69.],\n",
              "        [ 82., 100.],\n",
              "        [118., 134.],\n",
              "        [ 20.,  38.],\n",
              "        [102., 120.]])"
            ]
          },
          "metadata": {},
          "execution_count": 57
        }
      ]
    },
    {
      "cell_type": "code",
      "source": [
        "# suppose data for temp, rainfall , humidity\n",
        "model(torch.tensor([[75, 63, 44.]]))"
      ],
      "metadata": {
        "id": "6Cx-8J3yvbnQ",
        "outputId": "97be3331-c642-4b0f-ab38-f15a2a52a0da",
        "colab": {
          "base_uri": "https://localhost:8080/"
        }
      },
      "execution_count": 58,
      "outputs": [
        {
          "output_type": "execute_result",
          "data": {
            "text/plain": [
              "tensor([[54.7414, 69.1297]], grad_fn=<AddmmBackward0>)"
            ]
          },
          "metadata": {},
          "execution_count": 58
        }
      ]
    },
    {
      "cell_type": "code",
      "source": [],
      "metadata": {
        "id": "pSFFRgv-v7z6"
      },
      "execution_count": null,
      "outputs": []
    }
  ],
  "metadata": {
    "colab": {
      "provenance": [],
      "toc_visible": true,
      "authorship_tag": "ABX9TyNAHQ93c3wxDBZntvSybiHE",
      "include_colab_link": true
    },
    "kernelspec": {
      "display_name": "Python 3",
      "name": "python3"
    },
    "language_info": {
      "name": "python"
    }
  },
  "nbformat": 4,
  "nbformat_minor": 0
}