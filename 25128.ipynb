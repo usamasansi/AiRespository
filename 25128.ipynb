{
  "nbformat": 4,
  "nbformat_minor": 0,
  "metadata": {
    "colab": {
      "provenance": []
    },
    "kernelspec": {
      "name": "python3",
      "display_name": "Python 3"
    },
    "language_info": {
      "name": "python"
    }
  },
  "cells": [
    {
      "cell_type": "code",
      "execution_count": 2,
      "metadata": {
        "id": "rqG8iYiTEtn7"
      },
      "outputs": [],
      "source": [
        "import pandas as pd"
      ]
    },
    {
      "cell_type": "code",
      "source": [
        "from sklearn.linear_model import LinearRegression"
      ],
      "metadata": {
        "id": "PG9mIDI8FRtn"
      },
      "execution_count": 3,
      "outputs": []
    },
    {
      "cell_type": "code",
      "source": [
        "from sklearn.model_selection import train_test_split"
      ],
      "metadata": {
        "id": "sFEOBLsWFav8"
      },
      "execution_count": 4,
      "outputs": []
    },
    {
      "cell_type": "code",
      "source": [
        "from sklearn.metrics import mean_squared_error, r2_score"
      ],
      "metadata": {
        "id": "Jy62kfX4Ffbx"
      },
      "execution_count": 5,
      "outputs": []
    },
    {
      "cell_type": "code",
      "source": [
        "data = pd.read_csv('/content/test.csv')"
      ],
      "metadata": {
        "id": "y9lGc5hxFks2"
      },
      "execution_count": 7,
      "outputs": []
    },
    {
      "cell_type": "code",
      "source": [
        "data"
      ],
      "metadata": {
        "id": "mZkLYJ8_dWOp",
        "outputId": "b37802b9-8c2c-4a8a-a85b-84cb5a24ca94",
        "colab": {
          "base_uri": "https://localhost:8080/",
          "height": 679
        }
      },
      "execution_count": 8,
      "outputs": [
        {
          "output_type": "execute_result",
          "data": {
            "text/plain": [
              "            Product_id  Stall_no             instock_date  Market_Category  \\\n",
              "0     SCHE4YSTDVPVZVXW      39.0  2016-01-13 07:45:08.000              205   \n",
              "1     ACCEGCATKHNRXUHW      49.0  2015-08-23 20:37:05.000                3   \n",
              "2     NKCE6GJ5XVJDXNNZ       1.0  2015-11-14 18:12:39.000              183   \n",
              "3     NKCEB8BK3ZXDHDHM       8.0  2015-11-21 04:56:19.000              358   \n",
              "4     TOPEFDXSAHRNPF94      33.0  2015-05-06 15:09:46.000              167   \n",
              "...                ...       ...                      ...              ...   \n",
              "3425  BBAE9K7BXFUTDNBK       9.0  2015-08-15 21:17:17.000               58   \n",
              "3426  RTRDYPA4PJHCJCGF      30.0  2015-12-04 01:51:47.000              358   \n",
              "3427  TUNE8FWQBS7TVVT7      14.0  2016-03-28 20:55:47.000              106   \n",
              "3428  NKCEGMUABCRGUZPE       1.0  2015-05-23 07:41:36.000              104   \n",
              "3429  RNGE7M92KAQWUBCS       3.0  2015-08-16 22:19:46.000              165   \n",
              "\n",
              "     Customer_name Loyalty_customer Product_Category  Grade  Demand  \\\n",
              "0           Ivanka              No           Fashion      0      90   \n",
              "1            Isaak              Yes          Fashion      0      87   \n",
              "2         Analiese              No        Technology      2      55   \n",
              "3            Rusty              Yes       Child_care      3      86   \n",
              "4           Eloise              No        Technology      0      27   \n",
              "...            ...              ...              ...    ...     ...   \n",
              "3425        Davion              Yes         Pet_care      0      39   \n",
              "3426         Maiah              Yes       Technology      3      17   \n",
              "3427     Gwendolen              Yes      Educational      0      36   \n",
              "3428      Addilynn              Yes       Child_care      0      63   \n",
              "3429      Charlize              No            Repair      0      92   \n",
              "\n",
              "      Discount_avail  charges_1  charges_2 (%)  Minimum_price  Maximum_price  \n",
              "0                  0      380.0           16.0         2576.0           3340  \n",
              "1                  0      393.0           16.0         1202.0           1955  \n",
              "2                  0      493.0            9.0         7175.0          15715  \n",
              "3                  0      303.0           16.0         5404.0          13078  \n",
              "4                  0      567.0           16.0         4069.0           6244  \n",
              "...              ...        ...            ...            ...            ...  \n",
              "3425               0      117.0            5.0         3094.0           4674  \n",
              "3426               0      509.0            6.0         3384.0          14105  \n",
              "3427               0      150.0           17.0          710.0          10894  \n",
              "3428               0      325.0           15.0         1477.0           5165  \n",
              "3429               1      228.0            9.0         5538.0           7506  \n",
              "\n",
              "[3430 rows x 14 columns]"
            ],
            "text/html": [
              "\n",
              "  <div id=\"df-2d52545e-faa8-4e54-bf3f-4514ec33f932\">\n",
              "    <div class=\"colab-df-container\">\n",
              "      <div>\n",
              "<style scoped>\n",
              "    .dataframe tbody tr th:only-of-type {\n",
              "        vertical-align: middle;\n",
              "    }\n",
              "\n",
              "    .dataframe tbody tr th {\n",
              "        vertical-align: top;\n",
              "    }\n",
              "\n",
              "    .dataframe thead th {\n",
              "        text-align: right;\n",
              "    }\n",
              "</style>\n",
              "<table border=\"1\" class=\"dataframe\">\n",
              "  <thead>\n",
              "    <tr style=\"text-align: right;\">\n",
              "      <th></th>\n",
              "      <th>Product_id</th>\n",
              "      <th>Stall_no</th>\n",
              "      <th>instock_date</th>\n",
              "      <th>Market_Category</th>\n",
              "      <th>Customer_name</th>\n",
              "      <th>Loyalty_customer</th>\n",
              "      <th>Product_Category</th>\n",
              "      <th>Grade</th>\n",
              "      <th>Demand</th>\n",
              "      <th>Discount_avail</th>\n",
              "      <th>charges_1</th>\n",
              "      <th>charges_2 (%)</th>\n",
              "      <th>Minimum_price</th>\n",
              "      <th>Maximum_price</th>\n",
              "    </tr>\n",
              "  </thead>\n",
              "  <tbody>\n",
              "    <tr>\n",
              "      <th>0</th>\n",
              "      <td>SCHE4YSTDVPVZVXW</td>\n",
              "      <td>39.0</td>\n",
              "      <td>2016-01-13 07:45:08.000</td>\n",
              "      <td>205</td>\n",
              "      <td>Ivanka</td>\n",
              "      <td>No</td>\n",
              "      <td>Fashion</td>\n",
              "      <td>0</td>\n",
              "      <td>90</td>\n",
              "      <td>0</td>\n",
              "      <td>380.0</td>\n",
              "      <td>16.0</td>\n",
              "      <td>2576.0</td>\n",
              "      <td>3340</td>\n",
              "    </tr>\n",
              "    <tr>\n",
              "      <th>1</th>\n",
              "      <td>ACCEGCATKHNRXUHW</td>\n",
              "      <td>49.0</td>\n",
              "      <td>2015-08-23 20:37:05.000</td>\n",
              "      <td>3</td>\n",
              "      <td>Isaak</td>\n",
              "      <td>Yes</td>\n",
              "      <td>Fashion</td>\n",
              "      <td>0</td>\n",
              "      <td>87</td>\n",
              "      <td>0</td>\n",
              "      <td>393.0</td>\n",
              "      <td>16.0</td>\n",
              "      <td>1202.0</td>\n",
              "      <td>1955</td>\n",
              "    </tr>\n",
              "    <tr>\n",
              "      <th>2</th>\n",
              "      <td>NKCE6GJ5XVJDXNNZ</td>\n",
              "      <td>1.0</td>\n",
              "      <td>2015-11-14 18:12:39.000</td>\n",
              "      <td>183</td>\n",
              "      <td>Analiese</td>\n",
              "      <td>No</td>\n",
              "      <td>Technology</td>\n",
              "      <td>2</td>\n",
              "      <td>55</td>\n",
              "      <td>0</td>\n",
              "      <td>493.0</td>\n",
              "      <td>9.0</td>\n",
              "      <td>7175.0</td>\n",
              "      <td>15715</td>\n",
              "    </tr>\n",
              "    <tr>\n",
              "      <th>3</th>\n",
              "      <td>NKCEB8BK3ZXDHDHM</td>\n",
              "      <td>8.0</td>\n",
              "      <td>2015-11-21 04:56:19.000</td>\n",
              "      <td>358</td>\n",
              "      <td>Rusty</td>\n",
              "      <td>Yes</td>\n",
              "      <td>Child_care</td>\n",
              "      <td>3</td>\n",
              "      <td>86</td>\n",
              "      <td>0</td>\n",
              "      <td>303.0</td>\n",
              "      <td>16.0</td>\n",
              "      <td>5404.0</td>\n",
              "      <td>13078</td>\n",
              "    </tr>\n",
              "    <tr>\n",
              "      <th>4</th>\n",
              "      <td>TOPEFDXSAHRNPF94</td>\n",
              "      <td>33.0</td>\n",
              "      <td>2015-05-06 15:09:46.000</td>\n",
              "      <td>167</td>\n",
              "      <td>Eloise</td>\n",
              "      <td>No</td>\n",
              "      <td>Technology</td>\n",
              "      <td>0</td>\n",
              "      <td>27</td>\n",
              "      <td>0</td>\n",
              "      <td>567.0</td>\n",
              "      <td>16.0</td>\n",
              "      <td>4069.0</td>\n",
              "      <td>6244</td>\n",
              "    </tr>\n",
              "    <tr>\n",
              "      <th>...</th>\n",
              "      <td>...</td>\n",
              "      <td>...</td>\n",
              "      <td>...</td>\n",
              "      <td>...</td>\n",
              "      <td>...</td>\n",
              "      <td>...</td>\n",
              "      <td>...</td>\n",
              "      <td>...</td>\n",
              "      <td>...</td>\n",
              "      <td>...</td>\n",
              "      <td>...</td>\n",
              "      <td>...</td>\n",
              "      <td>...</td>\n",
              "      <td>...</td>\n",
              "    </tr>\n",
              "    <tr>\n",
              "      <th>3425</th>\n",
              "      <td>BBAE9K7BXFUTDNBK</td>\n",
              "      <td>9.0</td>\n",
              "      <td>2015-08-15 21:17:17.000</td>\n",
              "      <td>58</td>\n",
              "      <td>Davion</td>\n",
              "      <td>Yes</td>\n",
              "      <td>Pet_care</td>\n",
              "      <td>0</td>\n",
              "      <td>39</td>\n",
              "      <td>0</td>\n",
              "      <td>117.0</td>\n",
              "      <td>5.0</td>\n",
              "      <td>3094.0</td>\n",
              "      <td>4674</td>\n",
              "    </tr>\n",
              "    <tr>\n",
              "      <th>3426</th>\n",
              "      <td>RTRDYPA4PJHCJCGF</td>\n",
              "      <td>30.0</td>\n",
              "      <td>2015-12-04 01:51:47.000</td>\n",
              "      <td>358</td>\n",
              "      <td>Maiah</td>\n",
              "      <td>Yes</td>\n",
              "      <td>Technology</td>\n",
              "      <td>3</td>\n",
              "      <td>17</td>\n",
              "      <td>0</td>\n",
              "      <td>509.0</td>\n",
              "      <td>6.0</td>\n",
              "      <td>3384.0</td>\n",
              "      <td>14105</td>\n",
              "    </tr>\n",
              "    <tr>\n",
              "      <th>3427</th>\n",
              "      <td>TUNE8FWQBS7TVVT7</td>\n",
              "      <td>14.0</td>\n",
              "      <td>2016-03-28 20:55:47.000</td>\n",
              "      <td>106</td>\n",
              "      <td>Gwendolen</td>\n",
              "      <td>Yes</td>\n",
              "      <td>Educational</td>\n",
              "      <td>0</td>\n",
              "      <td>36</td>\n",
              "      <td>0</td>\n",
              "      <td>150.0</td>\n",
              "      <td>17.0</td>\n",
              "      <td>710.0</td>\n",
              "      <td>10894</td>\n",
              "    </tr>\n",
              "    <tr>\n",
              "      <th>3428</th>\n",
              "      <td>NKCEGMUABCRGUZPE</td>\n",
              "      <td>1.0</td>\n",
              "      <td>2015-05-23 07:41:36.000</td>\n",
              "      <td>104</td>\n",
              "      <td>Addilynn</td>\n",
              "      <td>Yes</td>\n",
              "      <td>Child_care</td>\n",
              "      <td>0</td>\n",
              "      <td>63</td>\n",
              "      <td>0</td>\n",
              "      <td>325.0</td>\n",
              "      <td>15.0</td>\n",
              "      <td>1477.0</td>\n",
              "      <td>5165</td>\n",
              "    </tr>\n",
              "    <tr>\n",
              "      <th>3429</th>\n",
              "      <td>RNGE7M92KAQWUBCS</td>\n",
              "      <td>3.0</td>\n",
              "      <td>2015-08-16 22:19:46.000</td>\n",
              "      <td>165</td>\n",
              "      <td>Charlize</td>\n",
              "      <td>No</td>\n",
              "      <td>Repair</td>\n",
              "      <td>0</td>\n",
              "      <td>92</td>\n",
              "      <td>1</td>\n",
              "      <td>228.0</td>\n",
              "      <td>9.0</td>\n",
              "      <td>5538.0</td>\n",
              "      <td>7506</td>\n",
              "    </tr>\n",
              "  </tbody>\n",
              "</table>\n",
              "<p>3430 rows × 14 columns</p>\n",
              "</div>\n",
              "      <button class=\"colab-df-convert\" onclick=\"convertToInteractive('df-2d52545e-faa8-4e54-bf3f-4514ec33f932')\"\n",
              "              title=\"Convert this dataframe to an interactive table.\"\n",
              "              style=\"display:none;\">\n",
              "        \n",
              "  <svg xmlns=\"http://www.w3.org/2000/svg\" height=\"24px\"viewBox=\"0 0 24 24\"\n",
              "       width=\"24px\">\n",
              "    <path d=\"M0 0h24v24H0V0z\" fill=\"none\"/>\n",
              "    <path d=\"M18.56 5.44l.94 2.06.94-2.06 2.06-.94-2.06-.94-.94-2.06-.94 2.06-2.06.94zm-11 1L8.5 8.5l.94-2.06 2.06-.94-2.06-.94L8.5 2.5l-.94 2.06-2.06.94zm10 10l.94 2.06.94-2.06 2.06-.94-2.06-.94-.94-2.06-.94 2.06-2.06.94z\"/><path d=\"M17.41 7.96l-1.37-1.37c-.4-.4-.92-.59-1.43-.59-.52 0-1.04.2-1.43.59L10.3 9.45l-7.72 7.72c-.78.78-.78 2.05 0 2.83L4 21.41c.39.39.9.59 1.41.59.51 0 1.02-.2 1.41-.59l7.78-7.78 2.81-2.81c.8-.78.8-2.07 0-2.86zM5.41 20L4 18.59l7.72-7.72 1.47 1.35L5.41 20z\"/>\n",
              "  </svg>\n",
              "      </button>\n",
              "      \n",
              "  <style>\n",
              "    .colab-df-container {\n",
              "      display:flex;\n",
              "      flex-wrap:wrap;\n",
              "      gap: 12px;\n",
              "    }\n",
              "\n",
              "    .colab-df-convert {\n",
              "      background-color: #E8F0FE;\n",
              "      border: none;\n",
              "      border-radius: 50%;\n",
              "      cursor: pointer;\n",
              "      display: none;\n",
              "      fill: #1967D2;\n",
              "      height: 32px;\n",
              "      padding: 0 0 0 0;\n",
              "      width: 32px;\n",
              "    }\n",
              "\n",
              "    .colab-df-convert:hover {\n",
              "      background-color: #E2EBFA;\n",
              "      box-shadow: 0px 1px 2px rgba(60, 64, 67, 0.3), 0px 1px 3px 1px rgba(60, 64, 67, 0.15);\n",
              "      fill: #174EA6;\n",
              "    }\n",
              "\n",
              "    [theme=dark] .colab-df-convert {\n",
              "      background-color: #3B4455;\n",
              "      fill: #D2E3FC;\n",
              "    }\n",
              "\n",
              "    [theme=dark] .colab-df-convert:hover {\n",
              "      background-color: #434B5C;\n",
              "      box-shadow: 0px 1px 3px 1px rgba(0, 0, 0, 0.15);\n",
              "      filter: drop-shadow(0px 1px 2px rgba(0, 0, 0, 0.3));\n",
              "      fill: #FFFFFF;\n",
              "    }\n",
              "  </style>\n",
              "\n",
              "      <script>\n",
              "        const buttonEl =\n",
              "          document.querySelector('#df-2d52545e-faa8-4e54-bf3f-4514ec33f932 button.colab-df-convert');\n",
              "        buttonEl.style.display =\n",
              "          google.colab.kernel.accessAllowed ? 'block' : 'none';\n",
              "\n",
              "        async function convertToInteractive(key) {\n",
              "          const element = document.querySelector('#df-2d52545e-faa8-4e54-bf3f-4514ec33f932');\n",
              "          const dataTable =\n",
              "            await google.colab.kernel.invokeFunction('convertToInteractive',\n",
              "                                                     [key], {});\n",
              "          if (!dataTable) return;\n",
              "\n",
              "          const docLinkHtml = 'Like what you see? Visit the ' +\n",
              "            '<a target=\"_blank\" href=https://colab.research.google.com/notebooks/data_table.ipynb>data table notebook</a>'\n",
              "            + ' to learn more about interactive tables.';\n",
              "          element.innerHTML = '';\n",
              "          dataTable['output_type'] = 'display_data';\n",
              "          await google.colab.output.renderOutput(dataTable, element);\n",
              "          const docLink = document.createElement('div');\n",
              "          docLink.innerHTML = docLinkHtml;\n",
              "          element.appendChild(docLink);\n",
              "        }\n",
              "      </script>\n",
              "    </div>\n",
              "  </div>\n",
              "  "
            ]
          },
          "metadata": {},
          "execution_count": 8
        }
      ]
    },
    {
      "cell_type": "code",
      "source": [
        "data.info()"
      ],
      "metadata": {
        "id": "XU8gMwIOGaR5",
        "colab": {
          "base_uri": "https://localhost:8080/"
        },
        "outputId": "a65c9c73-3b1e-4816-a0f2-83903f0f1e95"
      },
      "execution_count": 9,
      "outputs": [
        {
          "output_type": "stream",
          "name": "stdout",
          "text": [
            "<class 'pandas.core.frame.DataFrame'>\n",
            "RangeIndex: 3430 entries, 0 to 3429\n",
            "Data columns (total 14 columns):\n",
            " #   Column            Non-Null Count  Dtype  \n",
            "---  ------            --------------  -----  \n",
            " 0   Product_id        3430 non-null   object \n",
            " 1   Stall_no          3429 non-null   float64\n",
            " 2   instock_date      3430 non-null   object \n",
            " 3   Market_Category   3430 non-null   int64  \n",
            " 4   Customer_name     3377 non-null   object \n",
            " 5   Loyalty_customer  3430 non-null   object \n",
            " 6   Product_Category  3430 non-null   object \n",
            " 7   Grade             3430 non-null   int64  \n",
            " 8   Demand            3430 non-null   int64  \n",
            " 9   Discount_avail    3430 non-null   int64  \n",
            " 10  charges_1         3394 non-null   float64\n",
            " 11  charges_2 (%)     3425 non-null   float64\n",
            " 12  Minimum_price     3416 non-null   float64\n",
            " 13  Maximum_price     3430 non-null   int64  \n",
            "dtypes: float64(4), int64(5), object(5)\n",
            "memory usage: 375.3+ KB\n"
          ]
        }
      ]
    },
    {
      "cell_type": "code",
      "source": [
        "selected_features = ['Market_Category', 'Product_Category', 'Grade', 'Demand', 'Discount_avail', 'charges_1', 'Minimum_price', 'Maximum_price']"
      ],
      "metadata": {
        "id": "DCnyBKJ7GnG0"
      },
      "execution_count": 19,
      "outputs": []
    },
    {
      "cell_type": "code",
      "source": [
        "X = data[selected_features]\n",
        "y = data['charges_2 (%)']\n",
        "X,y"
      ],
      "metadata": {
        "id": "n92QDxkQGrQu",
        "colab": {
          "base_uri": "https://localhost:8080/"
        },
        "outputId": "372e9ed3-328f-4a26-c79a-78b935a751ca"
      },
      "execution_count": 21,
      "outputs": [
        {
          "output_type": "execute_result",
          "data": {
            "text/plain": [
              "(      Market_Category Product_Category  Grade  Demand  Discount_avail  \\\n",
              " 0                 205          Fashion      0      90               0   \n",
              " 1                   3          Fashion      0      87               0   \n",
              " 2                 183       Technology      2      55               0   \n",
              " 3                 358       Child_care      3      86               0   \n",
              " 4                 167       Technology      0      27               0   \n",
              " ...               ...              ...    ...     ...             ...   \n",
              " 3425               58         Pet_care      0      39               0   \n",
              " 3426              358       Technology      3      17               0   \n",
              " 3427              106      Educational      0      36               0   \n",
              " 3428              104       Child_care      0      63               0   \n",
              " 3429              165           Repair      0      92               1   \n",
              " \n",
              "       charges_1  Minimum_price  Maximum_price  \n",
              " 0         380.0         2576.0           3340  \n",
              " 1         393.0         1202.0           1955  \n",
              " 2         493.0         7175.0          15715  \n",
              " 3         303.0         5404.0          13078  \n",
              " 4         567.0         4069.0           6244  \n",
              " ...         ...            ...            ...  \n",
              " 3425      117.0         3094.0           4674  \n",
              " 3426      509.0         3384.0          14105  \n",
              " 3427      150.0          710.0          10894  \n",
              " 3428      325.0         1477.0           5165  \n",
              " 3429      228.0         5538.0           7506  \n",
              " \n",
              " [3324 rows x 8 columns],\n",
              " 0       16.0\n",
              " 1       16.0\n",
              " 2        9.0\n",
              " 3       16.0\n",
              " 4       16.0\n",
              "         ... \n",
              " 3425     5.0\n",
              " 3426     6.0\n",
              " 3427    17.0\n",
              " 3428    15.0\n",
              " 3429     9.0\n",
              " Name: charges_2 (%), Length: 3324, dtype: float64)"
            ]
          },
          "metadata": {},
          "execution_count": 21
        }
      ]
    },
    {
      "cell_type": "code",
      "source": [
        "from sklearn.model_selection import train_test_split\n",
        "X_train, X_test, y_train, y_test = train_test_split(X, y, test_size=0.2, random_state=42)"
      ],
      "metadata": {
        "id": "69eZSD3xGvwC"
      },
      "execution_count": 15,
      "outputs": []
    },
    {
      "cell_type": "code",
      "source": [
        "from sklearn.linear_model import LinearRegression\n",
        "data = pd.read_csv('/content/test.csv')\n",
        "data.dropna(inplace=True)\n",
        "model = LinearRegression()\n",
        "X\n",
        "\n",
        "X = data[['Discount_avail', 'charges_1', 'charges_2 (%)','Minimum_price','Maximum_price']].astype(float)\n",
        "\n",
        "y= data[['charges_2 (%)']].astype(float)\n",
        "model.fit(X,y)\n",
        "print(model.coef_)\n",
        "print(model.intercept_)"
      ],
      "metadata": {
        "id": "iLqWpemkG1Zn",
        "outputId": "9dabd07c-a0ba-47c1-ff68-3b8e0f85bf1c",
        "colab": {
          "base_uri": "https://localhost:8080/"
        }
      },
      "execution_count": 22,
      "outputs": [
        {
          "output_type": "stream",
          "name": "stdout",
          "text": [
            "[[-3.10276256e-15  2.48932819e-16  1.00000000e+00  5.58364119e-17\n",
            "  -3.08997619e-17]]\n",
            "[-1.24344979e-14]\n"
          ]
        }
      ]
    },
    {
      "cell_type": "code",
      "source": [
        "from sklearn.metrics import mean_squared_error\n",
        "y_pred = model.predict(X)\n",
        "\n",
        "rmse = mean_squared_error(y, y_pred, squared=False)\n",
        "print(rmse)"
      ],
      "metadata": {
        "colab": {
          "base_uri": "https://localhost:8080/"
        },
        "id": "WMiCgeNMipd2",
        "outputId": "3bd1a69d-8966-4a22-a61e-1555d1d56565"
      },
      "execution_count": 23,
      "outputs": [
        {
          "output_type": "stream",
          "name": "stdout",
          "text": [
            "8.94574157121608e-14\n"
          ]
        }
      ]
    },
    {
      "cell_type": "code",
      "source": [
        "import matplotlib.pyplot as plt\n",
        "\n",
        "plt.scatter(data['Discount_avail'], data['charges_2 (%)'], color='red')\n",
        "plt.scatter(data['charges_1'], data['charges_2 (%)'], color='green')\n",
        "plt.scatter(data['charges_2 (%)'], data['charges_2 (%)'], color='orange')\n",
        "plt.show()"
      ],
      "metadata": {
        "colab": {
          "base_uri": "https://localhost:8080/",
          "height": 430
        },
        "id": "rhILbJ5Qirqo",
        "outputId": "404fa52f-5d82-4359-d181-1fe6a806a0de"
      },
      "execution_count": 25,
      "outputs": [
        {
          "output_type": "display_data",
          "data": {
            "text/plain": [
              "<Figure size 640x480 with 1 Axes>"
            ],
            "image/png": "[encoded data removed]"
          },
          "metadata": {}
        }
      ]
    }
  ]
}