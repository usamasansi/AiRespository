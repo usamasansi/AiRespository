{
  "cells": [
    {
      "cell_type": "markdown",
      "metadata": {
        "id": "view-in-github",
        "colab_type": "text"
      },
      "source": [
        "<a href=\"https://colab.research.google.com/github/usamasansi/AiRespository/blob/main/03_logistic_regression.ipynb\" target=\"_parent\"><img src=\"https://colab.research.google.com/assets/colab-badge.svg\" alt=\"Open In Colab\"/></a>"
      ]
    },
    {
      "cell_type": "code",
      "source": [
        "import torch\n",
        "import torchvision\n",
        "from torchvision.datasets import MNIST"
      ],
      "metadata": {
        "id": "wEfzXMp_2PHA"
      },
      "execution_count": 1,
      "outputs": []
    },
    {
      "cell_type": "code",
      "source": [
        "dataset = MNIST(root='data/', download=True)"
      ],
      "metadata": {
        "id": "aKewJmz5KpAd",
        "outputId": "9c5be7f3-9e9d-4530-9bda-eb998ffa159a",
        "colab": {
          "base_uri": "https://localhost:8080/"
        }
      },
      "execution_count": 2,
      "outputs": [
        {
          "output_type": "stream",
          "name": "stdout",
          "text": [
            "Downloading http://yann.lecun.com/exdb/mnist/train-images-idx3-ubyte.gz\n",
            "Failed to download (trying next):\n",
            "HTTP Error 403: Forbidden\n",
            "\n",
            "Downloading https://ossci-datasets.s3.amazonaws.com/mnist/train-images-idx3-ubyte.gz\n",
            "Downloading https://ossci-datasets.s3.amazonaws.com/mnist/train-images-idx3-ubyte.gz to data/MNIST/raw/train-images-idx3-ubyte.gz\n"
          ]
        },
        {
          "output_type": "stream",
          "name": "stderr",
          "text": [
            "100%|██████████| 9912422/9912422 [00:00<00:00, 21492120.16it/s]\n"
          ]
        },
        {
          "output_type": "stream",
          "name": "stdout",
          "text": [
            "Extracting data/MNIST/raw/train-images-idx3-ubyte.gz to data/MNIST/raw\n",
            "\n",
            "Downloading http://yann.lecun.com/exdb/mnist/train-labels-idx1-ubyte.gz\n",
            "Failed to download (trying next):\n",
            "HTTP Error 403: Forbidden\n",
            "\n",
            "Downloading https://ossci-datasets.s3.amazonaws.com/mnist/train-labels-idx1-ubyte.gz\n",
            "Downloading https://ossci-datasets.s3.amazonaws.com/mnist/train-labels-idx1-ubyte.gz to data/MNIST/raw/train-labels-idx1-ubyte.gz\n"
          ]
        },
        {
          "output_type": "stream",
          "name": "stderr",
          "text": [
            "100%|██████████| 28881/28881 [00:00<00:00, 669883.45it/s]\n"
          ]
        },
        {
          "output_type": "stream",
          "name": "stdout",
          "text": [
            "Extracting data/MNIST/raw/train-labels-idx1-ubyte.gz to data/MNIST/raw\n",
            "\n",
            "Downloading http://yann.lecun.com/exdb/mnist/t10k-images-idx3-ubyte.gz\n",
            "Failed to download (trying next):\n",
            "HTTP Error 403: Forbidden\n",
            "\n",
            "Downloading https://ossci-datasets.s3.amazonaws.com/mnist/t10k-images-idx3-ubyte.gz\n",
            "Downloading https://ossci-datasets.s3.amazonaws.com/mnist/t10k-images-idx3-ubyte.gz to data/MNIST/raw/t10k-images-idx3-ubyte.gz\n"
          ]
        },
        {
          "output_type": "stream",
          "name": "stderr",
          "text": [
            "100%|██████████| 1648877/1648877 [00:00<00:00, 5570211.78it/s]\n"
          ]
        },
        {
          "output_type": "stream",
          "name": "stdout",
          "text": [
            "Extracting data/MNIST/raw/t10k-images-idx3-ubyte.gz to data/MNIST/raw\n",
            "\n",
            "Downloading http://yann.lecun.com/exdb/mnist/t10k-labels-idx1-ubyte.gz\n",
            "Failed to download (trying next):\n",
            "HTTP Error 403: Forbidden\n",
            "\n",
            "Downloading https://ossci-datasets.s3.amazonaws.com/mnist/t10k-labels-idx1-ubyte.gz\n",
            "Downloading https://ossci-datasets.s3.amazonaws.com/mnist/t10k-labels-idx1-ubyte.gz to data/MNIST/raw/t10k-labels-idx1-ubyte.gz\n"
          ]
        },
        {
          "output_type": "stream",
          "name": "stderr",
          "text": [
            "100%|██████████| 4542/4542 [00:00<00:00, 9403025.06it/s]\n"
          ]
        },
        {
          "output_type": "stream",
          "name": "stdout",
          "text": [
            "Extracting data/MNIST/raw/t10k-labels-idx1-ubyte.gz to data/MNIST/raw\n",
            "\n"
          ]
        }
      ]
    },
    {
      "cell_type": "code",
      "source": [
        "len(dataset)"
      ],
      "metadata": {
        "colab": {
          "base_uri": "https://localhost:8080/"
        },
        "id": "UGh1rKB1Ky8-",
        "outputId": "36c4e688-165c-4ac4-8725-75f37f53bc13"
      },
      "execution_count": 3,
      "outputs": [
        {
          "output_type": "execute_result",
          "data": {
            "text/plain": [
              "60000"
            ]
          },
          "metadata": {},
          "execution_count": 3
        }
      ]
    },
    {
      "cell_type": "code",
      "source": [
        "type(dataset)"
      ],
      "metadata": {
        "colab": {
          "base_uri": "https://localhost:8080/",
          "height": 203
        },
        "id": "dEb2EZBKK6mP",
        "outputId": "2fa8915b-5cfd-46d9-fb31-b245622c5f91"
      },
      "execution_count": 4,
      "outputs": [
        {
          "output_type": "execute_result",
          "data": {
            "text/plain": [
              "torchvision.datasets.mnist.MNIST"
            ],
            "text/html": [
              "<div style=\"max-width:800px; border: 1px solid var(--colab-border-color);\"><style>\n",
              "      pre.function-repr-contents {\n",
              "        overflow-x: auto;\n",
              "        padding: 8px 12px;\n",
              "        max-height: 500px;\n",
              "      }\n",
              "\n",
              "      pre.function-repr-contents.function-repr-contents-collapsed {\n",
              "        cursor: pointer;\n",
              "        max-height: 100px;\n",
              "      }\n",
              "    </style>\n",
              "    <pre style=\"white-space: initial; background:\n",
              "         var(--colab-secondary-surface-color); padding: 8px 12px;\n",
              "         border-bottom: 1px solid var(--colab-border-color);\"><b>torchvision.datasets.mnist.MNIST</b><br/>def __init__(root: Union[str, Path], train: bool=True, transform: Optional[Callable]=None, target_transform: Optional[Callable]=None, download: bool=False) -&gt; None</pre><pre class=\"function-repr-contents function-repr-contents-collapsed\" style=\"\"><a class=\"filepath\" style=\"display:none\" href=\"#\">/usr/local/lib/python3.10/dist-packages/torchvision/datasets/mnist.py</a>`MNIST &lt;http://yann.lecun.com/exdb/mnist/&gt;`_ Dataset.\n",
              "\n",
              "Args:\n",
              "    root (str or ``pathlib.Path``): Root directory of dataset where ``MNIST/raw/train-images-idx3-ubyte``\n",
              "        and  ``MNIST/raw/t10k-images-idx3-ubyte`` exist.\n",
              "    train (bool, optional): If True, creates dataset from ``train-images-idx3-ubyte``,\n",
              "        otherwise from ``t10k-images-idx3-ubyte``.\n",
              "    download (bool, optional): If True, downloads the dataset from the internet and\n",
              "        puts it in root directory. If dataset is already downloaded, it is not\n",
              "        downloaded again.\n",
              "    transform (callable, optional): A function/transform that  takes in a PIL image\n",
              "        and returns a transformed version. E.g, ``transforms.RandomCrop``\n",
              "    target_transform (callable, optional): A function/transform that takes in the\n",
              "        target and transforms it.</pre>\n",
              "      <script>\n",
              "      if (google.colab.kernel.accessAllowed && google.colab.files && google.colab.files.view) {\n",
              "        for (const element of document.querySelectorAll('.filepath')) {\n",
              "          element.style.display = 'block'\n",
              "          element.onclick = (event) => {\n",
              "            event.preventDefault();\n",
              "            event.stopPropagation();\n",
              "            google.colab.files.view(element.textContent, 20);\n",
              "          };\n",
              "        }\n",
              "      }\n",
              "      for (const element of document.querySelectorAll('.function-repr-contents')) {\n",
              "        element.onclick = (event) => {\n",
              "          event.preventDefault();\n",
              "          event.stopPropagation();\n",
              "          element.classList.toggle('function-repr-contents-collapsed');\n",
              "        };\n",
              "      }\n",
              "      </script>\n",
              "      </div>"
            ]
          },
          "metadata": {},
          "execution_count": 4
        }
      ]
    },
    {
      "cell_type": "code",
      "source": [
        "test_dataset = MNIST(root='data/', train=False)\n",
        "len(test_dataset)"
      ],
      "metadata": {
        "colab": {
          "base_uri": "https://localhost:8080/"
        },
        "id": "Z3LzJyeNK8-D",
        "outputId": "c029debc-f960-4f41-b1d2-9c55f2e2e91a"
      },
      "execution_count": 5,
      "outputs": [
        {
          "output_type": "execute_result",
          "data": {
            "text/plain": [
              "10000"
            ]
          },
          "metadata": {},
          "execution_count": 5
        }
      ]
    },
    {
      "cell_type": "code",
      "source": [
        "\n",
        "\n",
        "\n",
        "dataset[0]"
      ],
      "metadata": {
        "colab": {
          "base_uri": "https://localhost:8080/"
        },
        "id": "5JiKHzi9LNgh",
        "outputId": "bbdfd4f4-1f68-4791-e43b-9970fb88ac93"
      },
      "execution_count": 6,
      "outputs": [
        {
          "output_type": "execute_result",
          "data": {
            "text/plain": [
              "(<PIL.Image.Image image mode=L size=28x28>, 5)"
            ]
          },
          "metadata": {},
          "execution_count": 6
        }
      ]
    },
    {
      "cell_type": "code",
      "source": [
        "import matplotlib.pyplot as plt\n",
        "%matplotlib inline"
      ],
      "metadata": {
        "id": "Xn0pEcRZLVSe"
      },
      "execution_count": 7,
      "outputs": []
    },
    {
      "cell_type": "code",
      "source": [
        "image, label = dataset[0]\n",
        "plt.imshow(image, cmap='gray')\n",
        "print('Label:', label)"
      ],
      "metadata": {
        "colab": {
          "base_uri": "https://localhost:8080/",
          "height": 447
        },
        "id": "KvWbGEqqLhyd",
        "outputId": "616ac5f4-249b-48d9-8183-0c012e4895ff"
      },
      "execution_count": 8,
      "outputs": [
        {
          "output_type": "stream",
          "name": "stdout",
          "text": [
            "Label: 5\n"
          ]
        },
        {
          "output_type": "display_data",
          "data": {
            "text/plain": [
              "<Figure size 640x480 with 1 Axes>"
            ],
            "image/png": "[encoded data removed]"
          },
          "metadata": {}
        }
      ]
    },
    {
      "cell_type": "code",
      "source": [
        "image, label = dataset[10]\n",
        "plt.imshow(image, cmap='gray')\n",
        "print('Label:', label)"
      ],
      "metadata": {
        "colab": {
          "base_uri": "https://localhost:8080/",
          "height": 447
        },
        "id": "GRChEqin1CvY",
        "outputId": "51e3088f-58c1-4d2b-ae5d-302a86644822"
      },
      "execution_count": 9,
      "outputs": [
        {
          "output_type": "stream",
          "name": "stdout",
          "text": [
            "Label: 3\n"
          ]
        },
        {
          "output_type": "display_data",
          "data": {
            "text/plain": [
              "<Figure size 640x480 with 1 Axes>"
            ],
            "image/png": "[encoded data removed]"
          },
          "metadata": {}
        }
      ]
    },
    {
      "cell_type": "code",
      "source": [
        "import torchvision.transforms as transforms"
      ],
      "metadata": {
        "id": "AcfQPi8rL-3g"
      },
      "execution_count": 10,
      "outputs": []
    },
    {
      "cell_type": "code",
      "source": [
        "# MNIST datset (images, and lables)\n",
        "dataset = MNIST(root='data/',\n",
        "                train=True,\n",
        "                transform = transforms.ToTensor())"
      ],
      "metadata": {
        "id": "ZmO3NwW1M7Hu"
      },
      "execution_count": 11,
      "outputs": []
    },
    {
      "cell_type": "code",
      "source": [
        "img_tensor, label = dataset[0]\n",
        "print(img_tensor.shape, label)"
      ],
      "metadata": {
        "colab": {
          "base_uri": "https://localhost:8080/"
        },
        "id": "eHiMETLF3tQO",
        "outputId": "66d4c470-2661-4283-ab08-9d0c9a24bede"
      },
      "execution_count": 12,
      "outputs": [
        {
          "output_type": "stream",
          "name": "stdout",
          "text": [
            "torch.Size([1, 28, 28]) 5\n"
          ]
        }
      ]
    },
    {
      "cell_type": "code",
      "source": [
        "print(img_tensor[:,10:15,10:15])\n",
        "print(torch.max(img_tensor), torch.min(img_tensor))"
      ],
      "metadata": {
        "id": "1L-pexp-34DI",
        "colab": {
          "base_uri": "https://localhost:8080/"
        },
        "outputId": "c9ac6877-30ff-4665-b950-345dfd3018aa"
      },
      "execution_count": 13,
      "outputs": [
        {
          "output_type": "stream",
          "name": "stdout",
          "text": [
            "tensor([[[0.0039, 0.6039, 0.9922, 0.3529, 0.0000],\n",
            "         [0.0000, 0.5451, 0.9922, 0.7451, 0.0078],\n",
            "         [0.0000, 0.0431, 0.7451, 0.9922, 0.2745],\n",
            "         [0.0000, 0.0000, 0.1373, 0.9451, 0.8824],\n",
            "         [0.0000, 0.0000, 0.0000, 0.3176, 0.9412]]])\n",
            "tensor(1.) tensor(0.)\n"
          ]
        }
      ]
    },
    {
      "cell_type": "code",
      "source": [
        "# plot the image by passing the 28 * 28 matrix\n",
        "plt.imshow(img_tensor[0,10:15,10:15], cmap='gray')"
      ],
      "metadata": {
        "colab": {
          "base_uri": "https://localhost:8080/",
          "height": 447
        },
        "id": "l6n1Wy-9HfdC",
        "outputId": "1eb55959-831b-4e50-c203-44c3b002bb2c"
      },
      "execution_count": 14,
      "outputs": [
        {
          "output_type": "execute_result",
          "data": {
            "text/plain": [
              "<matplotlib.image.AxesImage at 0x7eae6c238d60>"
            ]
          },
          "metadata": {},
          "execution_count": 14
        },
        {
          "output_type": "display_data",
          "data": {
            "text/plain": [
              "<Figure size 640x480 with 1 Axes>"
            ],
            "image/png": "[encoded data removed]"
          },
          "metadata": {}
        }
      ]
    },
    {
      "cell_type": "code",
      "source": [
        "# trainig datset and validation dataset splitiing\n",
        "from torch.utils.data import random_split\n",
        "\n",
        "train_ds, val_ds = random_split(dataset, [50000, 10000])\n",
        "len(train_ds), len(val_ds)"
      ],
      "metadata": {
        "colab": {
          "base_uri": "https://localhost:8080/"
        },
        "id": "MKZuwFfAMCQw",
        "outputId": "474966ce-cf0d-4d7e-f608-875411a49e95"
      },
      "execution_count": 15,
      "outputs": [
        {
          "output_type": "execute_result",
          "data": {
            "text/plain": [
              "(50000, 10000)"
            ]
          },
          "metadata": {},
          "execution_count": 15
        }
      ]
    },
    {
      "cell_type": "code",
      "source": [
        "# define batch size for trainig and validation dataloaders it;s better appraoch becaus it enhace speed of trainig\n",
        "from torch.utils.data import DataLoader\n",
        "\n",
        "batch_size = 128\n",
        "\n",
        "train_loader = DataLoader(train_ds, batch_size, shuffle=True)\n",
        "val_loader = DataLoader(val_ds, batch_size)"
      ],
      "metadata": {
        "id": "xhnXcTl1gEIz"
      },
      "execution_count": 16,
      "outputs": []
    },
    {
      "cell_type": "markdown",
      "source": [
        "**logistic model**"
      ],
      "metadata": {
        "id": "TUZ-Kf60i3ru"
      }
    },
    {
      "cell_type": "code",
      "source": [
        "import torch.nn as nn\n",
        "input_size = 28 *28\n",
        "num_classes = 10\n",
        "# logistic regression model\n",
        "model = nn.Linear(input_size, num_classes)"
      ],
      "metadata": {
        "id": "zQ8zD5wXgnUJ"
      },
      "execution_count": 17,
      "outputs": []
    },
    {
      "cell_type": "code",
      "source": [
        "print(model.weight.shape)\n",
        "model.weight\n"
      ],
      "metadata": {
        "colab": {
          "base_uri": "https://localhost:8080/"
        },
        "id": "WEvKhEte6S4f",
        "outputId": "e2d7ad5a-c083-4652-8beb-0566a60c8a84"
      },
      "execution_count": 18,
      "outputs": [
        {
          "output_type": "stream",
          "name": "stdout",
          "text": [
            "torch.Size([10, 784])\n"
          ]
        },
        {
          "output_type": "execute_result",
          "data": {
            "text/plain": [
              "Parameter containing:\n",
              "tensor([[-0.0057,  0.0290, -0.0239,  ..., -0.0318,  0.0037,  0.0211],\n",
              "        [ 0.0257,  0.0207, -0.0347,  ..., -0.0262,  0.0304,  0.0044],\n",
              "        [ 0.0199, -0.0032, -0.0122,  ...,  0.0314,  0.0134, -0.0056],\n",
              "        ...,\n",
              "        [-0.0171,  0.0162,  0.0208,  ..., -0.0334, -0.0344,  0.0271],\n",
              "        [-0.0274, -0.0056, -0.0203,  ..., -0.0028, -0.0082,  0.0226],\n",
              "        [ 0.0105,  0.0009, -0.0126,  ...,  0.0256,  0.0023, -0.0145]],\n",
              "       requires_grad=True)"
            ]
          },
          "metadata": {},
          "execution_count": 18
        }
      ]
    },
    {
      "cell_type": "code",
      "source": [
        "print(model.bias.shape)\n",
        "model.bias"
      ],
      "metadata": {
        "colab": {
          "base_uri": "https://localhost:8080/"
        },
        "id": "Vt6ntt2T6qbZ",
        "outputId": "6604e775-ed69-4e26-e05a-f2dbd20308c8"
      },
      "execution_count": 19,
      "outputs": [
        {
          "output_type": "stream",
          "name": "stdout",
          "text": [
            "torch.Size([10])\n"
          ]
        },
        {
          "output_type": "execute_result",
          "data": {
            "text/plain": [
              "Parameter containing:\n",
              "tensor([-0.0202,  0.0080, -0.0275,  0.0095, -0.0310, -0.0040,  0.0078, -0.0344,\n",
              "         0.0266,  0.0031], requires_grad=True)"
            ]
          },
          "metadata": {},
          "execution_count": 19
        }
      ]
    },
    {
      "cell_type": "code",
      "source": [
        "for images, labels in train_loader:\n",
        "    print(labels)\n",
        "    print(images.shape)\n",
        "\n",
        "    # Flatten the images before passing them to the model\n",
        "    images = images.view(images.size(0), -1)  # Flatten the images\n",
        "\n",
        "    outputs = model(images)\n",
        "    break\n"
      ],
      "metadata": {
        "colab": {
          "base_uri": "https://localhost:8080/"
        },
        "id": "6eWHUqAY6tFN",
        "outputId": "a27273e8-beae-4a4f-8625-2244d7ec3603"
      },
      "execution_count": 20,
      "outputs": [
        {
          "output_type": "stream",
          "name": "stdout",
          "text": [
            "tensor([4, 0, 9, 2, 4, 1, 3, 7, 9, 9, 4, 4, 8, 2, 3, 8, 6, 1, 1, 0, 1, 0, 2, 1,\n",
            "        9, 1, 9, 5, 1, 0, 0, 1, 9, 8, 9, 9, 5, 2, 1, 4, 1, 2, 4, 2, 4, 1, 2, 9,\n",
            "        8, 6, 7, 4, 7, 8, 6, 4, 3, 0, 6, 3, 9, 5, 8, 6, 6, 1, 4, 8, 6, 0, 1, 6,\n",
            "        6, 8, 1, 0, 7, 2, 5, 4, 7, 6, 6, 2, 7, 0, 0, 5, 2, 2, 6, 8, 6, 1, 4, 8,\n",
            "        0, 2, 1, 6, 2, 8, 1, 4, 6, 8, 9, 1, 3, 7, 6, 5, 1, 7, 9, 6, 0, 6, 5, 2,\n",
            "        1, 4, 9, 3, 0, 3, 9, 9])\n",
            "torch.Size([128, 1, 28, 28])\n"
          ]
        }
      ]
    },
    {
      "cell_type": "code",
      "source": [
        "images.reshape(-1,784).shape"
      ],
      "metadata": {
        "colab": {
          "base_uri": "https://localhost:8080/"
        },
        "id": "9a9FF9hg9Nnx",
        "outputId": "3e49f21d-b5ac-45d0-ce3d-0e69b92238ca"
      },
      "execution_count": 21,
      "outputs": [
        {
          "output_type": "execute_result",
          "data": {
            "text/plain": [
              "torch.Size([128, 784])"
            ]
          },
          "metadata": {},
          "execution_count": 21
        }
      ]
    },
    {
      "cell_type": "code",
      "source": [
        "class MinistModel(nn.Module):\n",
        "  def __init__(self):\n",
        "    super().__init__()\n",
        "    self.linear = nn.Linear(input_size, num_classes)\n",
        "\n",
        "  def forward(self, xb):\n",
        "      xb = xb.reshape(-1, 784)\n",
        "      print(\"after reshaping: \", xb.shape)\n",
        "      out = self.linear(xb)\n",
        "      return out\n",
        "\n",
        "\n",
        "model = MinistModel()"
      ],
      "metadata": {
        "id": "XssNTiQG7LQW"
      },
      "execution_count": 22,
      "outputs": []
    },
    {
      "cell_type": "code",
      "source": [
        "print(model.linear.weight.shape, model.linear.bias.shape)\n",
        "list(model.parameters())"
      ],
      "metadata": {
        "colab": {
          "base_uri": "https://localhost:8080/"
        },
        "id": "g_1qmXn59BlU",
        "outputId": "4f33188f-25c8-445e-824b-f2b01a3fd506"
      },
      "execution_count": 23,
      "outputs": [
        {
          "output_type": "stream",
          "name": "stdout",
          "text": [
            "torch.Size([10, 784]) torch.Size([10])\n"
          ]
        },
        {
          "output_type": "execute_result",
          "data": {
            "text/plain": [
              "[Parameter containing:\n",
              " tensor([[ 0.0059,  0.0010,  0.0053,  ...,  0.0356, -0.0005, -0.0038],\n",
              "         [-0.0066, -0.0147, -0.0131,  ..., -0.0093,  0.0287,  0.0242],\n",
              "         [-0.0151, -0.0274,  0.0114,  ...,  0.0189,  0.0351,  0.0112],\n",
              "         ...,\n",
              "         [-0.0089, -0.0074, -0.0293,  ..., -0.0119,  0.0023,  0.0143],\n",
              "         [ 0.0048, -0.0293,  0.0310,  ..., -0.0151,  0.0023,  0.0321],\n",
              "         [ 0.0175, -0.0268,  0.0005,  ...,  0.0339,  0.0069, -0.0062]],\n",
              "        requires_grad=True),\n",
              " Parameter containing:\n",
              " tensor([-0.0163,  0.0246,  0.0036,  0.0247,  0.0017,  0.0067,  0.0099,  0.0299,\n",
              "         -0.0220, -0.0133], requires_grad=True)]"
            ]
          },
          "metadata": {},
          "execution_count": 23
        }
      ]
    },
    {
      "cell_type": "code",
      "source": [
        "for image, labels in train_loader:\n",
        "  outputs = model(images)\n",
        "  break\n",
        "\n",
        "\n",
        "\n",
        "\n",
        "print(\"output shape\", outputs.shape)\n",
        "print(\"sample outputs: \\n\", outputs[:2].data)\n"
      ],
      "metadata": {
        "colab": {
          "base_uri": "https://localhost:8080/"
        },
        "id": "TTssSN5h-Arg",
        "outputId": "43c4ecb1-6d55-46f0-dfcd-6d8aba542faa"
      },
      "execution_count": 24,
      "outputs": [
        {
          "output_type": "stream",
          "name": "stdout",
          "text": [
            "after reshaping:  torch.Size([128, 784])\n",
            "output shape torch.Size([128, 10])\n",
            "sample outputs: \n",
            " tensor([[ 0.1096,  0.0454,  0.0160, -0.0210, -0.2566,  0.1003,  0.2390, -0.3370,\n",
            "         -0.1259, -0.1092],\n",
            "        [ 0.0050,  0.0959,  0.0496,  0.0880, -0.3766,  0.2372,  0.1975, -0.2669,\n",
            "         -0.1480, -0.0578]])\n"
          ]
        }
      ]
    },
    {
      "cell_type": "code",
      "source": [
        "import torch.nn.functional as F"
      ],
      "metadata": {
        "id": "3poqefbi-cg-"
      },
      "execution_count": 25,
      "outputs": []
    },
    {
      "cell_type": "code",
      "source": [
        "# apply softymax\n",
        "probs = F.softmax(outputs, dim=1)\n",
        "# look at sample probabilties\n",
        "print(\"sample probabilties :\\n\", probs[:2].data)\n",
        "\n",
        "# adfd up the probabilties of an output row\n",
        "print(\"sum:\", torch.sum(probs[0]).item())"
      ],
      "metadata": {
        "colab": {
          "base_uri": "https://localhost:8080/"
        },
        "id": "pR1Or5XWGh2p",
        "outputId": "c9256365-4e04-4271-e744-d9845d1418d6"
      },
      "execution_count": 26,
      "outputs": [
        {
          "output_type": "stream",
          "name": "stdout",
          "text": [
            "sample probabilties :\n",
            " tensor([[0.1139, 0.1068, 0.1037, 0.0999, 0.0790, 0.1128, 0.1296, 0.0729, 0.0900,\n",
            "         0.0915],\n",
            "        [0.1006, 0.1101, 0.1052, 0.1093, 0.0687, 0.1269, 0.1219, 0.0766, 0.0863,\n",
            "         0.0944]])\n",
            "sum: 1.0\n"
          ]
        }
      ]
    },
    {
      "cell_type": "code",
      "source": [
        "max_probs, preds = torch.max(probs, dim=1)\n",
        "print(preds)\n",
        "print(max_probs)"
      ],
      "metadata": {
        "colab": {
          "base_uri": "https://localhost:8080/"
        },
        "id": "6Y2fT7A9HKqK",
        "outputId": "23017c78-c5c0-4ed1-846f-302bb9de6e6a"
      },
      "execution_count": 27,
      "outputs": [
        {
          "output_type": "stream",
          "name": "stdout",
          "text": [
            "tensor([6, 5, 3, 1, 6, 7, 3, 6, 6, 6, 6, 6, 6, 3, 6, 2, 3, 1, 1, 1, 1, 3, 6, 1,\n",
            "        0, 1, 1, 3, 1, 0, 6, 1, 6, 2, 1, 6, 3, 6, 3, 0, 1, 6, 6, 5, 6, 2, 6, 6,\n",
            "        6, 6, 6, 6, 0, 2, 6, 6, 1, 6, 0, 1, 0, 6, 6, 6, 5, 3, 1, 6, 6, 3, 1, 2,\n",
            "        6, 6, 3, 6, 6, 5, 2, 6, 6, 6, 1, 6, 3, 0, 0, 3, 0, 5, 0, 6, 6, 1, 1, 6,\n",
            "        1, 1, 3, 2, 6, 6, 1, 6, 5, 6, 6, 1, 1, 6, 6, 3, 6, 0, 6, 6, 6, 6, 6, 6,\n",
            "        3, 6, 1, 1, 3, 2, 6, 6])\n",
            "tensor([0.1296, 0.1269, 0.1357, 0.1425, 0.1430, 0.1154, 0.1405, 0.1226, 0.1486,\n",
            "        0.1458, 0.1279, 0.1413, 0.1465, 0.1212, 0.1511, 0.1311, 0.1322, 0.1383,\n",
            "        0.1180, 0.1293, 0.1203, 0.1331, 0.1486, 0.1392, 0.1250, 0.1373, 0.1214,\n",
            "        0.1336, 0.1344, 0.1473, 0.1464, 0.1375, 0.1356, 0.1308, 0.1501, 0.1285,\n",
            "        0.1593, 0.1667, 0.1269, 0.1281, 0.1287, 0.1340, 0.1471, 0.1425, 0.1324,\n",
            "        0.1207, 0.1497, 0.1461, 0.1318, 0.1251, 0.1426, 0.1340, 0.1527, 0.1374,\n",
            "        0.1419, 0.1425, 0.1388, 0.1402, 0.1304, 0.1354, 0.1365, 0.1312, 0.1563,\n",
            "        0.1293, 0.1303, 0.1157, 0.1320, 0.1166, 0.1190, 0.1379, 0.1306, 0.1194,\n",
            "        0.1486, 0.1370, 0.1284, 0.1342, 0.1209, 0.1412, 0.1294, 0.1718, 0.1420,\n",
            "        0.1340, 0.1311, 0.1517, 0.1347, 0.1349, 0.1447, 0.1308, 0.1350, 0.1607,\n",
            "        0.1275, 0.1695, 0.1464, 0.1259, 0.1491, 0.1418, 0.1486, 0.1303, 0.1190,\n",
            "        0.1246, 0.1414, 0.1440, 0.1383, 0.1304, 0.1267, 0.1310, 0.1291, 0.1155,\n",
            "        0.1523, 0.1357, 0.1316, 0.1459, 0.1232, 0.1369, 0.1711, 0.1292, 0.1310,\n",
            "        0.1263, 0.1542, 0.1472, 0.1273, 0.1296, 0.1264, 0.1409, 0.1472, 0.1340,\n",
            "        0.1255, 0.1280], grad_fn=<MaxBackward0>)\n"
          ]
        }
      ]
    },
    {
      "cell_type": "code",
      "source": [
        "labels"
      ],
      "metadata": {
        "colab": {
          "base_uri": "https://localhost:8080/"
        },
        "id": "y9ayI7IsILJ4",
        "outputId": "f50a4f6f-779d-4236-ecd5-bbc850438e67"
      },
      "execution_count": 28,
      "outputs": [
        {
          "output_type": "execute_result",
          "data": {
            "text/plain": [
              "tensor([3, 4, 9, 0, 9, 1, 8, 6, 3, 8, 0, 2, 0, 1, 9, 9, 3, 2, 4, 4, 7, 9, 1, 1,\n",
              "        7, 6, 8, 2, 1, 2, 4, 4, 1, 2, 2, 9, 4, 9, 7, 3, 7, 0, 9, 0, 0, 4, 0, 1,\n",
              "        1, 3, 8, 8, 9, 0, 4, 6, 2, 7, 3, 6, 7, 3, 0, 7, 3, 1, 7, 8, 7, 1, 6, 1,\n",
              "        7, 4, 2, 2, 1, 7, 2, 2, 6, 9, 4, 5, 2, 4, 4, 8, 2, 3, 7, 9, 5, 8, 0, 5,\n",
              "        4, 9, 3, 1, 3, 0, 8, 9, 8, 8, 7, 9, 9, 3, 3, 4, 9, 8, 0, 3, 7, 3, 2, 1,\n",
              "        2, 2, 6, 0, 2, 6, 2, 1])"
            ]
          },
          "metadata": {},
          "execution_count": 28
        }
      ]
    },
    {
      "cell_type": "code",
      "source": [
        "torch.sum(labels == preds).item() / len(preds)"
      ],
      "metadata": {
        "colab": {
          "base_uri": "https://localhost:8080/"
        },
        "id": "dBPIwC2II-27",
        "outputId": "c0889c2c-3733-4cc6-fdcd-b4b2378cb77a"
      },
      "execution_count": 29,
      "outputs": [
        {
          "output_type": "execute_result",
          "data": {
            "text/plain": [
              "0.0703125"
            ]
          },
          "metadata": {},
          "execution_count": 29
        }
      ]
    },
    {
      "cell_type": "code",
      "source": [
        "def accuracy(outputs, labels):\n",
        "  _, preds = torch.max(outputs, dim=1)\n",
        "  return torch.tensor(torch.sum(preds == labels).item() / len(preds))"
      ],
      "metadata": {
        "id": "nYmuAGv_IeGD"
      },
      "execution_count": 31,
      "outputs": []
    },
    {
      "cell_type": "code",
      "source": [
        "accuracy(outputs, labels)"
      ],
      "metadata": {
        "id": "kvtqQvdeN2ea",
        "outputId": "49ac0999-5bf7-4d3f-ad08-1ad5cd32af63",
        "colab": {
          "base_uri": "https://localhost:8080/"
        }
      },
      "execution_count": 33,
      "outputs": [
        {
          "output_type": "execute_result",
          "data": {
            "text/plain": [
              "tensor(0.0703)"
            ]
          },
          "metadata": {},
          "execution_count": 33
        }
      ]
    },
    {
      "cell_type": "code",
      "source": [
        "loss_fn = F.cross_entropy"
      ],
      "metadata": {
        "id": "CrK6gLHOQWD6"
      },
      "execution_count": 35,
      "outputs": []
    },
    {
      "cell_type": "code",
      "source": [
        "# loss for current batch of da6ta\n",
        "loss = loss_fn(outputs, labels)\n",
        "print(loss)"
      ],
      "metadata": {
        "id": "0-SNm3ENQnAZ",
        "outputId": "0f004733-0602-4bb8-d46e-37a2cb31d4e7",
        "colab": {
          "base_uri": "https://localhost:8080/"
        }
      },
      "execution_count": 36,
      "outputs": [
        {
          "output_type": "stream",
          "name": "stdout",
          "text": [
            "tensor(2.3263, grad_fn=<NllLossBackward0>)\n"
          ]
        }
      ]
    },
    {
      "cell_type": "code",
      "source": [
        "class MinistModel(nn.Module):\n",
        "  def __init__(self):\n",
        "    super().__init__()\n",
        "    self.linear = nn.Linear(input_size, num_classes)\n",
        "\n",
        "  def forward(self, xb):\n",
        "    xb = xb.reshape(-1, 784)\n",
        "    out = self.linear(xb)\n",
        "    return out\n",
        "\n",
        "  def training_step(self, batch):\n",
        "    images, labels = batch\n",
        "    out = self(images)   #generate predictions\n",
        "    loss = F.cross_entropy(out, labels) #loss calculation\n",
        "    return loss\n",
        "\n",
        "  def validation_step(self, batch):\n",
        "    images, labels = batch\n",
        "    out = self(images)\n",
        "    loss = F.cross_entropy(out, labels)\n",
        "    acc = accuracy(out, labels)\n",
        "    return  {'val_loss': loss, 'val_acc': acc}\n",
        "\n",
        "  def validation_epoch_end(self,outputs):\n",
        "    batch_losses = [x['val_loss']for x in outputs]\n",
        "    epoch_loss = torch.stack(batch_losses).mean()\n",
        "    batch_accs = [x['val_acc'] for x in outputs]\n",
        "    epoch_acc = torch.stack(batch_accs).mean()\n",
        "    return {'val_loss': epoch_loss.item(), 'val_acc': epoch_acc.item()}\n",
        "\n",
        "  def epoch_end(self, epoch, result):\n",
        "    print(\"Epoch [{}], va_loss: {:.4f}, val_acc:{.4f}\".format(epoch, result['val_loss'], result['val_acc']))\n",
        "model = MinistModel()\n",
        "\n",
        "\n"
      ],
      "metadata": {
        "id": "50krnTVGQnm3"
      },
      "execution_count": 37,
      "outputs": []
    },
    {
      "cell_type": "code",
      "source": [
        "def evaluate(model, val_loader):\n",
        "  outputs  = [model.validation_step(batch) for batch in val_loader]\n",
        "  return model.validation_epoch_end(outputs)\n",
        "\n",
        "def fit(epochs, lr, model, train_loader, val_loader, opt_func=torch.optim.SGD):\n",
        "  history = []\n",
        "  optimizer = opt_func(model.parameters(), lr)\n",
        "  for epoch in range(epochs):\n",
        "    # trainig pahes\n",
        "    for batch in train_loader:\n",
        "      loss = model.training_step(batch)\n",
        "      loss.backward()\n",
        "      optimizer.step()\n",
        "      optimizer.zero_grad()\n",
        "\n",
        "      # validation phase\n",
        "\n",
        "    result = evaluate(model, val_loader)\n",
        "    model.epoch_end(epoch, result)\n",
        "    history.append(result)\n",
        "    return history\n"
      ],
      "metadata": {
        "id": "lTbvt2E0n5So"
      },
      "execution_count": 38,
      "outputs": []
    },
    {
      "cell_type": "code",
      "source": [
        "evaluate(model, val_loader)"
      ],
      "metadata": {
        "id": "90m3g2Wgqa5B",
        "outputId": "4bca27af-0f76-477f-9c87-a2c5e0842c56",
        "colab": {
          "base_uri": "https://localhost:8080/"
        }
      },
      "execution_count": 39,
      "outputs": [
        {
          "output_type": "execute_result",
          "data": {
            "text/plain": [
              "{'val_loss': 2.2852590084075928, 'val_acc': 0.12262658029794693}"
            ]
          },
          "metadata": {},
          "execution_count": 39
        }
      ]
    },
    {
      "cell_type": "code",
      "source": [],
      "metadata": {
        "id": "cK4G0Mt9tGjW"
      },
      "execution_count": null,
      "outputs": []
    },
    {
      "cell_type": "code",
      "source": [],
      "metadata": {
        "id": "8Lzb--ZLtGWp"
      },
      "execution_count": null,
      "outputs": []
    },
    {
      "cell_type": "code",
      "source": [],
      "metadata": {
        "id": "qR5eqbAuqam6"
      },
      "execution_count": null,
      "outputs": []
    },
    {
      "cell_type": "code",
      "source": [
        "from sklearn.model_selection import train_test_split\n",
        "from sklearn.linear_model import LogisticRegression\n",
        "\n",
        "# Assuming X and y are your feature matrix and target labels\n",
        "# Split the dataset into training and testing sets\n",
        "X_train, X_test, y_train, y_test = train_test_split(X, y, test_size=0.2, random_state=42)\n",
        "\n",
        "# Instantiate the Logistic Regression model\n",
        "LR = LogisticRegression(penalty='l2', C=10.0)\n",
        "\n",
        "# Fit the model to the training data\n",
        "LR = LR.fit(X_train, y_train)\n",
        "\n",
        "# Predict on the test data\n",
        "y_predict = LR.predict(X_test)\n",
        "\n",
        "# Get the coefficients\n",
        "LR.coef_\n"
      ],
      "metadata": {
        "id": "J0_0sDBhJUGP",
        "colab": {
          "base_uri": "https://localhost:8080/",
          "height": 211
        },
        "outputId": "ed1496a1-377a-46d6-9fc8-9f130c664ab6"
      },
      "execution_count": 34,
      "outputs": [
        {
          "output_type": "error",
          "ename": "NameError",
          "evalue": "name 'X' is not defined",
          "traceback": [
            "\u001b[0;31m---------------------------------------------------------------------------\u001b[0m",
            "\u001b[0;31mNameError\u001b[0m                                 Traceback (most recent call last)",
            "\u001b[0;32m<ipython-input-34-bea8b41974af>\u001b[0m in \u001b[0;36m<cell line: 6>\u001b[0;34m()\u001b[0m\n\u001b[1;32m      4\u001b[0m \u001b[0;31m# Assuming X and y are your feature matrix and target labels\u001b[0m\u001b[0;34m\u001b[0m\u001b[0;34m\u001b[0m\u001b[0m\n\u001b[1;32m      5\u001b[0m \u001b[0;31m# Split the dataset into training and testing sets\u001b[0m\u001b[0;34m\u001b[0m\u001b[0;34m\u001b[0m\u001b[0m\n\u001b[0;32m----> 6\u001b[0;31m \u001b[0mX_train\u001b[0m\u001b[0;34m,\u001b[0m \u001b[0mX_test\u001b[0m\u001b[0;34m,\u001b[0m \u001b[0my_train\u001b[0m\u001b[0;34m,\u001b[0m \u001b[0my_test\u001b[0m \u001b[0;34m=\u001b[0m \u001b[0mtrain_test_split\u001b[0m\u001b[0;34m(\u001b[0m\u001b[0mX\u001b[0m\u001b[0;34m,\u001b[0m \u001b[0my\u001b[0m\u001b[0;34m,\u001b[0m \u001b[0mtest_size\u001b[0m\u001b[0;34m=\u001b[0m\u001b[0;36m0.2\u001b[0m\u001b[0;34m,\u001b[0m \u001b[0mrandom_state\u001b[0m\u001b[0;34m=\u001b[0m\u001b[0;36m42\u001b[0m\u001b[0;34m)\u001b[0m\u001b[0;34m\u001b[0m\u001b[0;34m\u001b[0m\u001b[0m\n\u001b[0m\u001b[1;32m      7\u001b[0m \u001b[0;34m\u001b[0m\u001b[0m\n\u001b[1;32m      8\u001b[0m \u001b[0;31m# Instantiate the Logistic Regression model\u001b[0m\u001b[0;34m\u001b[0m\u001b[0;34m\u001b[0m\u001b[0m\n",
            "\u001b[0;31mNameError\u001b[0m: name 'X' is not defined"
          ]
        }
      ]
    },
    {
      "cell_type": "code",
      "source": [],
      "metadata": {
        "id": "VQqL4NaFYP6t"
      },
      "execution_count": null,
      "outputs": []
    }
  ],
  "metadata": {
    "colab": {
      "provenance": [],
      "authorship_tag": "ABX9TyO46vqbJaWhGTXofV+ECRAv",
      "include_colab_link": true
    },
    "kernelspec": {
      "display_name": "Python 3",
      "name": "python3"
    },
    "language_info": {
      "name": "python"
    }
  },
  "nbformat": 4,
  "nbformat_minor": 0
}