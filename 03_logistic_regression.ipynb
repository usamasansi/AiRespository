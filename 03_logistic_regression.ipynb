{
  "cells": [
    {
      "cell_type": "markdown",
      "metadata": {
        "id": "view-in-github",
        "colab_type": "text"
      },
      "source": [
        "<a href=\"https://colab.research.google.com/github/usamasansi/AiRespository/blob/main/03_logistic_regression.ipynb\" target=\"_parent\"><img src=\"https://colab.research.google.com/assets/colab-badge.svg\" alt=\"Open In Colab\"/></a>"
      ]
    },
    {
      "cell_type": "code",
      "source": [
        "import torch\n",
        "import torchvision\n",
        "from torchvision.datasets import MNIST"
      ],
      "metadata": {
        "id": "wEfzXMp_2PHA"
      },
      "execution_count": 1,
      "outputs": []
    },
    {
      "cell_type": "code",
      "source": [
        "dataset = MNIST(root='data/', download=True)"
      ],
      "metadata": {
        "id": "aKewJmz5KpAd",
        "colab": {
          "base_uri": "https://localhost:8080/"
        },
        "outputId": "898ded34-a90f-44d8-bd51-a97d4ccb637c"
      },
      "execution_count": 2,
      "outputs": [
        {
          "output_type": "stream",
          "name": "stdout",
          "text": [
            "Downloading http://yann.lecun.com/exdb/mnist/train-images-idx3-ubyte.gz\n",
            "Failed to download (trying next):\n",
            "HTTP Error 403: Forbidden\n",
            "\n",
            "Downloading https://ossci-datasets.s3.amazonaws.com/mnist/train-images-idx3-ubyte.gz\n",
            "Downloading https://ossci-datasets.s3.amazonaws.com/mnist/train-images-idx3-ubyte.gz to data/MNIST/raw/train-images-idx3-ubyte.gz\n"
          ]
        },
        {
          "output_type": "stream",
          "name": "stderr",
          "text": [
            "100%|██████████| 9912422/9912422 [00:00<00:00, 20267655.83it/s]\n"
          ]
        },
        {
          "output_type": "stream",
          "name": "stdout",
          "text": [
            "Extracting data/MNIST/raw/train-images-idx3-ubyte.gz to data/MNIST/raw\n",
            "\n",
            "Downloading http://yann.lecun.com/exdb/mnist/train-labels-idx1-ubyte.gz\n",
            "Failed to download (trying next):\n",
            "HTTP Error 403: Forbidden\n",
            "\n",
            "Downloading https://ossci-datasets.s3.amazonaws.com/mnist/train-labels-idx1-ubyte.gz\n",
            "Downloading https://ossci-datasets.s3.amazonaws.com/mnist/train-labels-idx1-ubyte.gz to data/MNIST/raw/train-labels-idx1-ubyte.gz\n"
          ]
        },
        {
          "output_type": "stream",
          "name": "stderr",
          "text": [
            "100%|██████████| 28881/28881 [00:00<00:00, 804359.22it/s]\n"
          ]
        },
        {
          "output_type": "stream",
          "name": "stdout",
          "text": [
            "Extracting data/MNIST/raw/train-labels-idx1-ubyte.gz to data/MNIST/raw\n",
            "\n",
            "Downloading http://yann.lecun.com/exdb/mnist/t10k-images-idx3-ubyte.gz\n",
            "Failed to download (trying next):\n",
            "HTTP Error 403: Forbidden\n",
            "\n",
            "Downloading https://ossci-datasets.s3.amazonaws.com/mnist/t10k-images-idx3-ubyte.gz\n",
            "Downloading https://ossci-datasets.s3.amazonaws.com/mnist/t10k-images-idx3-ubyte.gz to data/MNIST/raw/t10k-images-idx3-ubyte.gz\n"
          ]
        },
        {
          "output_type": "stream",
          "name": "stderr",
          "text": [
            "100%|██████████| 1648877/1648877 [00:00<00:00, 5597804.39it/s]\n"
          ]
        },
        {
          "output_type": "stream",
          "name": "stdout",
          "text": [
            "Extracting data/MNIST/raw/t10k-images-idx3-ubyte.gz to data/MNIST/raw\n",
            "\n",
            "Downloading http://yann.lecun.com/exdb/mnist/t10k-labels-idx1-ubyte.gz\n",
            "Failed to download (trying next):\n",
            "HTTP Error 403: Forbidden\n",
            "\n",
            "Downloading https://ossci-datasets.s3.amazonaws.com/mnist/t10k-labels-idx1-ubyte.gz\n",
            "Downloading https://ossci-datasets.s3.amazonaws.com/mnist/t10k-labels-idx1-ubyte.gz to data/MNIST/raw/t10k-labels-idx1-ubyte.gz\n"
          ]
        },
        {
          "output_type": "stream",
          "name": "stderr",
          "text": [
            "100%|██████████| 4542/4542 [00:00<00:00, 4281017.70it/s]\n"
          ]
        },
        {
          "output_type": "stream",
          "name": "stdout",
          "text": [
            "Extracting data/MNIST/raw/t10k-labels-idx1-ubyte.gz to data/MNIST/raw\n",
            "\n"
          ]
        }
      ]
    },
    {
      "cell_type": "code",
      "source": [
        "len(dataset)"
      ],
      "metadata": {
        "colab": {
          "base_uri": "https://localhost:8080/"
        },
        "id": "UGh1rKB1Ky8-",
        "outputId": "4047da5b-23b3-4159-fda3-886df0b079a1"
      },
      "execution_count": 3,
      "outputs": [
        {
          "output_type": "execute_result",
          "data": {
            "text/plain": [
              "60000"
            ]
          },
          "metadata": {},
          "execution_count": 3
        }
      ]
    },
    {
      "cell_type": "code",
      "source": [
        "type(dataset)"
      ],
      "metadata": {
        "colab": {
          "base_uri": "https://localhost:8080/",
          "height": 203
        },
        "id": "dEb2EZBKK6mP",
        "outputId": "83c423d9-935e-471d-d263-65934229663c"
      },
      "execution_count": 4,
      "outputs": [
        {
          "output_type": "execute_result",
          "data": {
            "text/plain": [
              "torchvision.datasets.mnist.MNIST"
            ],
            "text/html": [
              "<div style=\"max-width:800px; border: 1px solid var(--colab-border-color);\"><style>\n",
              "      pre.function-repr-contents {\n",
              "        overflow-x: auto;\n",
              "        padding: 8px 12px;\n",
              "        max-height: 500px;\n",
              "      }\n",
              "\n",
              "      pre.function-repr-contents.function-repr-contents-collapsed {\n",
              "        cursor: pointer;\n",
              "        max-height: 100px;\n",
              "      }\n",
              "    </style>\n",
              "    <pre style=\"white-space: initial; background:\n",
              "         var(--colab-secondary-surface-color); padding: 8px 12px;\n",
              "         border-bottom: 1px solid var(--colab-border-color);\"><b>torchvision.datasets.mnist.MNIST</b><br/>def __init__(root: Union[str, Path], train: bool=True, transform: Optional[Callable]=None, target_transform: Optional[Callable]=None, download: bool=False) -&gt; None</pre><pre class=\"function-repr-contents function-repr-contents-collapsed\" style=\"\"><a class=\"filepath\" style=\"display:none\" href=\"#\">/usr/local/lib/python3.10/dist-packages/torchvision/datasets/mnist.py</a>`MNIST &lt;http://yann.lecun.com/exdb/mnist/&gt;`_ Dataset.\n",
              "\n",
              "Args:\n",
              "    root (str or ``pathlib.Path``): Root directory of dataset where ``MNIST/raw/train-images-idx3-ubyte``\n",
              "        and  ``MNIST/raw/t10k-images-idx3-ubyte`` exist.\n",
              "    train (bool, optional): If True, creates dataset from ``train-images-idx3-ubyte``,\n",
              "        otherwise from ``t10k-images-idx3-ubyte``.\n",
              "    download (bool, optional): If True, downloads the dataset from the internet and\n",
              "        puts it in root directory. If dataset is already downloaded, it is not\n",
              "        downloaded again.\n",
              "    transform (callable, optional): A function/transform that  takes in a PIL image\n",
              "        and returns a transformed version. E.g, ``transforms.RandomCrop``\n",
              "    target_transform (callable, optional): A function/transform that takes in the\n",
              "        target and transforms it.</pre>\n",
              "      <script>\n",
              "      if (google.colab.kernel.accessAllowed && google.colab.files && google.colab.files.view) {\n",
              "        for (const element of document.querySelectorAll('.filepath')) {\n",
              "          element.style.display = 'block'\n",
              "          element.onclick = (event) => {\n",
              "            event.preventDefault();\n",
              "            event.stopPropagation();\n",
              "            google.colab.files.view(element.textContent, 20);\n",
              "          };\n",
              "        }\n",
              "      }\n",
              "      for (const element of document.querySelectorAll('.function-repr-contents')) {\n",
              "        element.onclick = (event) => {\n",
              "          event.preventDefault();\n",
              "          event.stopPropagation();\n",
              "          element.classList.toggle('function-repr-contents-collapsed');\n",
              "        };\n",
              "      }\n",
              "      </script>\n",
              "      </div>"
            ]
          },
          "metadata": {},
          "execution_count": 4
        }
      ]
    },
    {
      "cell_type": "code",
      "source": [
        "test_dataset = MNIST(root='data/', train=False)\n",
        "len(test_dataset)"
      ],
      "metadata": {
        "colab": {
          "base_uri": "https://localhost:8080/"
        },
        "id": "Z3LzJyeNK8-D",
        "outputId": "b4af9226-347e-44cb-adf2-8c81f8f5585d"
      },
      "execution_count": 5,
      "outputs": [
        {
          "output_type": "execute_result",
          "data": {
            "text/plain": [
              "10000"
            ]
          },
          "metadata": {},
          "execution_count": 5
        }
      ]
    },
    {
      "cell_type": "code",
      "source": [
        "\n",
        "\n",
        "\n",
        "dataset[0]"
      ],
      "metadata": {
        "colab": {
          "base_uri": "https://localhost:8080/"
        },
        "id": "5JiKHzi9LNgh",
        "outputId": "58eda670-74f6-40ae-8c0e-468665eed62e"
      },
      "execution_count": 6,
      "outputs": [
        {
          "output_type": "execute_result",
          "data": {
            "text/plain": [
              "(<PIL.Image.Image image mode=L size=28x28>, 5)"
            ]
          },
          "metadata": {},
          "execution_count": 6
        }
      ]
    },
    {
      "cell_type": "code",
      "source": [
        "import matplotlib.pyplot as plt\n",
        "%matplotlib inline"
      ],
      "metadata": {
        "id": "Xn0pEcRZLVSe"
      },
      "execution_count": 7,
      "outputs": []
    },
    {
      "cell_type": "code",
      "source": [
        "image, label = dataset[0]\n",
        "plt.imshow(image, cmap='gray')\n",
        "print('Label:', label)"
      ],
      "metadata": {
        "colab": {
          "base_uri": "https://localhost:8080/",
          "height": 447
        },
        "id": "KvWbGEqqLhyd",
        "outputId": "29faba50-31ff-45a5-9986-d0acd5ef7d6f"
      },
      "execution_count": 8,
      "outputs": [
        {
          "output_type": "stream",
          "name": "stdout",
          "text": [
            "Label: 5\n"
          ]
        },
        {
          "output_type": "display_data",
          "data": {
            "text/plain": [
              "<Figure size 640x480 with 1 Axes>"
            ],
            "image/png": "[encoded data removed]"
          },
          "metadata": {}
        }
      ]
    },
    {
      "cell_type": "code",
      "source": [
        "image, label = dataset[10]\n",
        "plt.imshow(image, cmap='gray')\n",
        "print('Label:', label)"
      ],
      "metadata": {
        "colab": {
          "base_uri": "https://localhost:8080/",
          "height": 447
        },
        "id": "GRChEqin1CvY",
        "outputId": "016d878b-d27a-416f-b508-24b0672a2d5f"
      },
      "execution_count": 9,
      "outputs": [
        {
          "output_type": "stream",
          "name": "stdout",
          "text": [
            "Label: 3\n"
          ]
        },
        {
          "output_type": "display_data",
          "data": {
            "text/plain": [
              "<Figure size 640x480 with 1 Axes>"
            ],
            "image/png": "[encoded data removed]"
          },
          "metadata": {}
        }
      ]
    },
    {
      "cell_type": "code",
      "source": [
        "import torchvision.transforms as transforms"
      ],
      "metadata": {
        "id": "AcfQPi8rL-3g"
      },
      "execution_count": 10,
      "outputs": []
    },
    {
      "cell_type": "code",
      "source": [
        "# MNIST datset (images, and lables)\n",
        "dataset = MNIST(root='data/',\n",
        "                train=True,\n",
        "                transform = transforms.ToTensor())"
      ],
      "metadata": {
        "id": "ZmO3NwW1M7Hu"
      },
      "execution_count": 11,
      "outputs": []
    },
    {
      "cell_type": "code",
      "source": [
        "img_tensor, label = dataset[0]\n",
        "print(img_tensor.shape, label)"
      ],
      "metadata": {
        "colab": {
          "base_uri": "https://localhost:8080/"
        },
        "id": "eHiMETLF3tQO",
        "outputId": "07a4258d-23f3-4f51-999d-53dcba49c8e6"
      },
      "execution_count": 12,
      "outputs": [
        {
          "output_type": "stream",
          "name": "stdout",
          "text": [
            "torch.Size([1, 28, 28]) 5\n"
          ]
        }
      ]
    },
    {
      "cell_type": "code",
      "source": [
        "print(img_tensor[:,10:15,10:15])\n",
        "print(torch.max(img_tensor), torch.min(img_tensor))"
      ],
      "metadata": {
        "id": "1L-pexp-34DI",
        "colab": {
          "base_uri": "https://localhost:8080/"
        },
        "outputId": "5faf4fed-afcd-445d-c232-bda9ef84201c"
      },
      "execution_count": 13,
      "outputs": [
        {
          "output_type": "stream",
          "name": "stdout",
          "text": [
            "tensor([[[0.0039, 0.6039, 0.9922, 0.3529, 0.0000],\n",
            "         [0.0000, 0.5451, 0.9922, 0.7451, 0.0078],\n",
            "         [0.0000, 0.0431, 0.7451, 0.9922, 0.2745],\n",
            "         [0.0000, 0.0000, 0.1373, 0.9451, 0.8824],\n",
            "         [0.0000, 0.0000, 0.0000, 0.3176, 0.9412]]])\n",
            "tensor(1.) tensor(0.)\n"
          ]
        }
      ]
    },
    {
      "cell_type": "code",
      "source": [
        "# plot the image by passing the 28 * 28 matrix\n",
        "plt.imshow(img_tensor[0,10:15,10:15], cmap='gray')"
      ],
      "metadata": {
        "colab": {
          "base_uri": "https://localhost:8080/",
          "height": 447
        },
        "id": "l6n1Wy-9HfdC",
        "outputId": "164e6948-dccb-41ee-acbe-2706135c7fc0"
      },
      "execution_count": 14,
      "outputs": [
        {
          "output_type": "execute_result",
          "data": {
            "text/plain": [
              "<matplotlib.image.AxesImage at 0x7ca68e8ca9e0>"
            ]
          },
          "metadata": {},
          "execution_count": 14
        },
        {
          "output_type": "display_data",
          "data": {
            "text/plain": [
              "<Figure size 640x480 with 1 Axes>"
            ],
            "image/png": "[encoded data removed]"
          },
          "metadata": {}
        }
      ]
    },
    {
      "cell_type": "code",
      "source": [
        "# trainig datset and validation dataset splitiing\n",
        "from torch.utils.data import random_split\n",
        "\n",
        "train_ds, val_ds = random_split(dataset, [50000, 10000])\n",
        "len(train_ds), len(val_ds)"
      ],
      "metadata": {
        "colab": {
          "base_uri": "https://localhost:8080/"
        },
        "id": "MKZuwFfAMCQw",
        "outputId": "876fe8b8-2993-4062-98f1-ad5571c09349"
      },
      "execution_count": 15,
      "outputs": [
        {
          "output_type": "execute_result",
          "data": {
            "text/plain": [
              "(50000, 10000)"
            ]
          },
          "metadata": {},
          "execution_count": 15
        }
      ]
    },
    {
      "cell_type": "code",
      "source": [
        "# define batch size for trainig and validation dataloaders it;s better appraoch becaus it enhace speed of trainig\n",
        "from torch.utils.data import DataLoader\n",
        "\n",
        "batch_size = 128\n",
        "\n",
        "train_loader = DataLoader(train_ds, batch_size, shuffle=True)\n",
        "val_loader = DataLoader(val_ds, batch_size)"
      ],
      "metadata": {
        "id": "xhnXcTl1gEIz"
      },
      "execution_count": 16,
      "outputs": []
    },
    {
      "cell_type": "markdown",
      "source": [
        "**logistic model**"
      ],
      "metadata": {
        "id": "TUZ-Kf60i3ru"
      }
    },
    {
      "cell_type": "code",
      "source": [
        "import torch.nn as nn\n",
        "input_size = 28 *28\n",
        "num_classes = 10\n",
        "# logistic regression model\n",
        "model = nn.Linear(input_size, num_classes)"
      ],
      "metadata": {
        "id": "zQ8zD5wXgnUJ"
      },
      "execution_count": 17,
      "outputs": []
    },
    {
      "cell_type": "code",
      "source": [
        "print(model.weight.shape)\n",
        "model.weight\n"
      ],
      "metadata": {
        "colab": {
          "base_uri": "https://localhost:8080/"
        },
        "id": "WEvKhEte6S4f",
        "outputId": "35b226e4-9331-4ea5-a161-1a2712da79fb"
      },
      "execution_count": 18,
      "outputs": [
        {
          "output_type": "stream",
          "name": "stdout",
          "text": [
            "torch.Size([10, 784])\n"
          ]
        },
        {
          "output_type": "execute_result",
          "data": {
            "text/plain": [
              "Parameter containing:\n",
              "tensor([[-0.0035,  0.0273,  0.0341,  ..., -0.0265,  0.0078,  0.0214],\n",
              "        [ 0.0186,  0.0141, -0.0233,  ...,  0.0036,  0.0270,  0.0318],\n",
              "        [ 0.0228,  0.0019, -0.0049,  ..., -0.0096, -0.0317,  0.0261],\n",
              "        ...,\n",
              "        [-0.0298,  0.0268, -0.0290,  ..., -0.0174,  0.0056, -0.0152],\n",
              "        [ 0.0249,  0.0310,  0.0308,  ...,  0.0303,  0.0091, -0.0009],\n",
              "        [ 0.0078, -0.0162,  0.0331,  ...,  0.0237,  0.0109,  0.0254]],\n",
              "       requires_grad=True)"
            ]
          },
          "metadata": {},
          "execution_count": 18
        }
      ]
    },
    {
      "cell_type": "code",
      "source": [
        "print(model.bias.shape)\n",
        "model.bias"
      ],
      "metadata": {
        "colab": {
          "base_uri": "https://localhost:8080/"
        },
        "id": "Vt6ntt2T6qbZ",
        "outputId": "5c1033a6-0924-4c3f-ca4e-3811e4057276"
      },
      "execution_count": 19,
      "outputs": [
        {
          "output_type": "stream",
          "name": "stdout",
          "text": [
            "torch.Size([10])\n"
          ]
        },
        {
          "output_type": "execute_result",
          "data": {
            "text/plain": [
              "Parameter containing:\n",
              "tensor([-0.0136,  0.0016,  0.0089,  0.0172, -0.0276, -0.0318, -0.0077, -0.0078,\n",
              "        -0.0080,  0.0038], requires_grad=True)"
            ]
          },
          "metadata": {},
          "execution_count": 19
        }
      ]
    },
    {
      "cell_type": "code",
      "source": [
        "for images, labels in train_loader:\n",
        "    print(labels)\n",
        "    print(images.shape)\n",
        "\n",
        "    # Flatten the images before passing them to the model\n",
        "    images = images.view(images.size(0), -1)  # Flatten the images\n",
        "\n",
        "    outputs = model(images)\n",
        "    break\n"
      ],
      "metadata": {
        "colab": {
          "base_uri": "https://localhost:8080/"
        },
        "id": "6eWHUqAY6tFN",
        "outputId": "215d909a-3fed-44c7-af5d-d17f6ec681d9"
      },
      "execution_count": 20,
      "outputs": [
        {
          "output_type": "stream",
          "name": "stdout",
          "text": [
            "tensor([9, 2, 9, 4, 7, 6, 1, 1, 5, 1, 8, 0, 1, 3, 3, 1, 9, 9, 9, 5, 8, 4, 9, 9,\n",
            "        7, 8, 5, 5, 3, 4, 7, 3, 4, 1, 4, 8, 9, 6, 9, 4, 7, 4, 8, 6, 9, 9, 9, 1,\n",
            "        0, 7, 9, 8, 2, 7, 9, 5, 4, 1, 0, 3, 8, 1, 3, 9, 6, 9, 2, 0, 9, 0, 3, 5,\n",
            "        6, 0, 7, 1, 8, 1, 3, 4, 9, 6, 0, 4, 5, 8, 6, 6, 7, 3, 1, 2, 2, 0, 3, 8,\n",
            "        0, 0, 4, 8, 9, 9, 7, 3, 5, 8, 8, 3, 4, 5, 4, 6, 4, 2, 1, 3, 4, 3, 9, 6,\n",
            "        9, 2, 0, 0, 7, 7, 1, 1])\n",
            "torch.Size([128, 1, 28, 28])\n"
          ]
        }
      ]
    },
    {
      "cell_type": "code",
      "source": [
        "images.reshape(-1,784).shape"
      ],
      "metadata": {
        "colab": {
          "base_uri": "https://localhost:8080/"
        },
        "id": "9a9FF9hg9Nnx",
        "outputId": "bd22c8ca-9ac9-4a5f-f1ad-50beb9624c6d"
      },
      "execution_count": 21,
      "outputs": [
        {
          "output_type": "execute_result",
          "data": {
            "text/plain": [
              "torch.Size([128, 784])"
            ]
          },
          "metadata": {},
          "execution_count": 21
        }
      ]
    },
    {
      "cell_type": "code",
      "source": [
        "class MinistModel(nn.Module):\n",
        "  def __init__(self):\n",
        "    super().__init__()\n",
        "    self.linear = nn.Linear(input_size, num_classes)\n",
        "\n",
        "  def forward(self, xb):\n",
        "      xb = xb.reshape(-1, 784)\n",
        "      print(\"after reshaping: \", xb.shape)\n",
        "      out = self.linear(xb)\n",
        "      return out\n",
        "\n",
        "\n",
        "model = MinistModel()"
      ],
      "metadata": {
        "id": "XssNTiQG7LQW"
      },
      "execution_count": 22,
      "outputs": []
    },
    {
      "cell_type": "code",
      "source": [
        "print(model.linear.weight.shape, model.linear.bias.shape)\n",
        "list(model.parameters())"
      ],
      "metadata": {
        "colab": {
          "base_uri": "https://localhost:8080/"
        },
        "id": "g_1qmXn59BlU",
        "outputId": "e40b89cc-3fbb-414a-f586-9d8d5c511268"
      },
      "execution_count": 23,
      "outputs": [
        {
          "output_type": "stream",
          "name": "stdout",
          "text": [
            "torch.Size([10, 784]) torch.Size([10])\n"
          ]
        },
        {
          "output_type": "execute_result",
          "data": {
            "text/plain": [
              "[Parameter containing:\n",
              " tensor([[ 0.0154, -0.0214,  0.0342,  ...,  0.0016, -0.0060, -0.0155],\n",
              "         [ 0.0102,  0.0073, -0.0124,  ..., -0.0291, -0.0336,  0.0045],\n",
              "         [-0.0294, -0.0209, -0.0101,  ...,  0.0225,  0.0014, -0.0350],\n",
              "         ...,\n",
              "         [-0.0084,  0.0324, -0.0197,  ...,  0.0238, -0.0133, -0.0212],\n",
              "         [ 0.0249,  0.0201,  0.0134,  ...,  0.0080,  0.0066,  0.0138],\n",
              "         [-0.0266,  0.0109,  0.0020,  ..., -0.0171,  0.0154, -0.0326]],\n",
              "        requires_grad=True),\n",
              " Parameter containing:\n",
              " tensor([ 0.0173,  0.0158, -0.0337,  0.0198,  0.0170,  0.0011,  0.0209,  0.0034,\n",
              "         -0.0167, -0.0101], requires_grad=True)]"
            ]
          },
          "metadata": {},
          "execution_count": 23
        }
      ]
    },
    {
      "cell_type": "code",
      "source": [
        "for image, labels in train_loader:\n",
        "  outputs = model(images)\n",
        "  break\n",
        "\n",
        "\n",
        "\n",
        "\n",
        "print(\"output shape\", outputs.shape)\n",
        "print(\"sample outputs: \\n\", outputs[:2].data)\n"
      ],
      "metadata": {
        "colab": {
          "base_uri": "https://localhost:8080/"
        },
        "id": "TTssSN5h-Arg",
        "outputId": "d3c6861f-39bd-4a5b-f8fb-1784db805547"
      },
      "execution_count": 24,
      "outputs": [
        {
          "output_type": "stream",
          "name": "stdout",
          "text": [
            "after reshaping:  torch.Size([128, 784])\n",
            "output shape torch.Size([128, 10])\n",
            "sample outputs: \n",
            " tensor([[ 0.2264, -0.1093,  0.1805, -0.0287, -0.3245, -0.0328, -0.1146,  0.2804,\n",
            "          0.2241, -0.1533],\n",
            "        [-0.0381, -0.0585, -0.2005,  0.1709,  0.0597, -0.1687, -0.3114,  0.1647,\n",
            "         -0.0865,  0.1020]])\n"
          ]
        }
      ]
    },
    {
      "cell_type": "code",
      "source": [
        "import torch.nn.functional as F"
      ],
      "metadata": {
        "id": "3poqefbi-cg-"
      },
      "execution_count": 25,
      "outputs": []
    },
    {
      "cell_type": "code",
      "source": [
        "# apply softymax\n",
        "probs = F.softmax(outputs, dim=1)\n",
        "# look at sample probabilties\n",
        "print(\"sample probabilties :\\n\", probs[:2].data)\n",
        "\n",
        "# adfd up the probabilties of an output row\n",
        "print(\"sum:\", torch.sum(probs[0]).item())"
      ],
      "metadata": {
        "colab": {
          "base_uri": "https://localhost:8080/"
        },
        "id": "pR1Or5XWGh2p",
        "outputId": "0488c28a-768a-4335-a377-4a9ce97181de"
      },
      "execution_count": 26,
      "outputs": [
        {
          "output_type": "stream",
          "name": "stdout",
          "text": [
            "sample probabilties :\n",
            " tensor([[0.1213, 0.0867, 0.1159, 0.0940, 0.0699, 0.0936, 0.0863, 0.1281, 0.1211,\n",
            "         0.0830],\n",
            "        [0.0987, 0.0967, 0.0839, 0.1216, 0.1088, 0.0866, 0.0751, 0.1209, 0.0940,\n",
            "         0.1135]])\n",
            "sum: 1.0\n"
          ]
        }
      ]
    },
    {
      "cell_type": "code",
      "source": [
        "max_probs, preds = torch.max(probs, dim=1)\n",
        "print(preds)\n",
        "print(max_probs)"
      ],
      "metadata": {
        "colab": {
          "base_uri": "https://localhost:8080/"
        },
        "id": "6Y2fT7A9HKqK",
        "outputId": "5af70cff-e410-4fd4-8497-4daec02bbf69"
      },
      "execution_count": 27,
      "outputs": [
        {
          "output_type": "stream",
          "name": "stdout",
          "text": [
            "tensor([7, 3, 3, 3, 0, 8, 0, 6, 7, 3, 5, 3, 0, 0, 7, 5, 8, 7, 7, 8, 9, 7, 8, 2,\n",
            "        8, 0, 8, 0, 3, 3, 7, 5, 0, 2, 3, 0, 3, 5, 7, 5, 3, 9, 7, 5, 3, 7, 3, 5,\n",
            "        9, 0, 3, 3, 3, 0, 3, 3, 3, 6, 5, 3, 4, 0, 0, 0, 3, 0, 1, 9, 3, 9, 5, 8,\n",
            "        7, 7, 7, 3, 0, 6, 0, 8, 9, 7, 5, 3, 7, 7, 3, 5, 3, 3, 6, 6, 0, 3, 7, 3,\n",
            "        7, 3, 3, 0, 6, 7, 7, 0, 7, 9, 3, 7, 7, 0, 0, 5, 7, 7, 7, 9, 7, 0, 5, 7,\n",
            "        3, 0, 3, 3, 0, 3, 0, 7])\n",
            "tensor([0.1281, 0.1216, 0.1246, 0.1104, 0.1185, 0.1432, 0.1191, 0.1200, 0.1282,\n",
            "        0.1231, 0.1498, 0.1231, 0.1209, 0.1198, 0.1138, 0.1413, 0.1353, 0.1265,\n",
            "        0.1236, 0.1375, 0.1480, 0.1297, 0.1316, 0.1208, 0.1344, 0.1146, 0.1213,\n",
            "        0.1195, 0.1233, 0.1439, 0.1417, 0.1186, 0.1486, 0.1168, 0.1492, 0.1254,\n",
            "        0.1368, 0.1304, 0.1241, 0.1463, 0.1243, 0.1321, 0.1304, 0.1384, 0.1168,\n",
            "        0.1201, 0.1202, 0.1125, 0.1586, 0.1379, 0.1382, 0.1266, 0.1233, 0.1269,\n",
            "        0.1255, 0.1508, 0.1178, 0.1210, 0.1347, 0.1158, 0.1185, 0.1208, 0.1358,\n",
            "        0.1270, 0.1275, 0.1397, 0.1165, 0.1483, 0.1435, 0.1446, 0.1417, 0.1612,\n",
            "        0.1245, 0.1362, 0.1333, 0.1141, 0.1514, 0.1219, 0.1158, 0.1355, 0.1135,\n",
            "        0.1102, 0.1334, 0.1260, 0.1594, 0.1271, 0.1498, 0.1383, 0.1359, 0.1325,\n",
            "        0.1295, 0.1290, 0.1195, 0.1465, 0.1356, 0.1420, 0.1308, 0.1353, 0.1175,\n",
            "        0.1311, 0.1172, 0.1295, 0.1289, 0.1296, 0.1387, 0.1173, 0.1303, 0.1382,\n",
            "        0.1406, 0.1347, 0.1329, 0.1434, 0.1364, 0.1338, 0.1184, 0.1188, 0.1156,\n",
            "        0.1157, 0.1131, 0.1244, 0.1279, 0.1262, 0.1398, 0.1643, 0.1293, 0.1288,\n",
            "        0.1145, 0.1342], grad_fn=<MaxBackward0>)\n"
          ]
        }
      ]
    },
    {
      "cell_type": "code",
      "source": [
        "labels"
      ],
      "metadata": {
        "colab": {
          "base_uri": "https://localhost:8080/"
        },
        "id": "y9ayI7IsILJ4",
        "outputId": "d12c07ea-e98a-44b6-aa98-78e3ff28d84f"
      },
      "execution_count": 28,
      "outputs": [
        {
          "output_type": "execute_result",
          "data": {
            "text/plain": [
              "tensor([4, 4, 1, 9, 8, 3, 6, 9, 4, 1, 9, 1, 7, 6, 6, 4, 4, 6, 9, 6, 0, 3, 0, 4,\n",
              "        4, 9, 4, 0, 6, 0, 5, 6, 9, 4, 6, 0, 7, 7, 8, 1, 0, 3, 1, 8, 2, 9, 7, 7,\n",
              "        0, 3, 1, 4, 7, 5, 4, 6, 7, 5, 6, 8, 7, 1, 0, 6, 3, 5, 6, 8, 9, 1, 8, 4,\n",
              "        0, 5, 8, 6, 4, 2, 7, 3, 2, 0, 1, 0, 4, 3, 1, 1, 7, 1, 2, 3, 3, 4, 8, 7,\n",
              "        1, 1, 7, 0, 4, 2, 1, 7, 2, 3, 3, 3, 2, 1, 1, 3, 9, 1, 0, 0, 8, 4, 1, 6,\n",
              "        4, 4, 9, 2, 7, 5, 9, 1])"
            ]
          },
          "metadata": {},
          "execution_count": 28
        }
      ]
    },
    {
      "cell_type": "code",
      "source": [
        "torch.sum(labels == preds).item() / len(preds)"
      ],
      "metadata": {
        "colab": {
          "base_uri": "https://localhost:8080/"
        },
        "id": "dBPIwC2II-27",
        "outputId": "3d9f1955-aa40-41d4-ad5b-ba62b12ae17c"
      },
      "execution_count": 29,
      "outputs": [
        {
          "output_type": "execute_result",
          "data": {
            "text/plain": [
              "0.046875"
            ]
          },
          "metadata": {},
          "execution_count": 29
        }
      ]
    },
    {
      "cell_type": "code",
      "source": [
        "accuracy(outputs, labels)"
      ],
      "metadata": {
        "colab": {
          "base_uri": "https://localhost:8080/",
          "height": 141
        },
        "id": "0K9cKx0bKCRq",
        "outputId": "7a5bf330-8045-40e1-89ff-54e0ebe5350d"
      },
      "execution_count": 30,
      "outputs": [
        {
          "output_type": "error",
          "ename": "NameError",
          "evalue": "name 'accuracy' is not defined",
          "traceback": [
            "\u001b[0;31m---------------------------------------------------------------------------\u001b[0m",
            "\u001b[0;31mNameError\u001b[0m                                 Traceback (most recent call last)",
            "\u001b[0;32m<ipython-input-30-56935a2372e1>\u001b[0m in \u001b[0;36m<cell line: 1>\u001b[0;34m()\u001b[0m\n\u001b[0;32m----> 1\u001b[0;31m \u001b[0maccuracy\u001b[0m\u001b[0;34m(\u001b[0m\u001b[0moutputs\u001b[0m\u001b[0;34m,\u001b[0m \u001b[0mlabels\u001b[0m\u001b[0;34m)\u001b[0m\u001b[0;34m\u001b[0m\u001b[0;34m\u001b[0m\u001b[0m\n\u001b[0m",
            "\u001b[0;31mNameError\u001b[0m: name 'accuracy' is not defined"
          ]
        }
      ]
    },
    {
      "cell_type": "code",
      "source": [],
      "metadata": {
        "id": "VQqL4NaFYP6t"
      },
      "execution_count": null,
      "outputs": []
    }
  ],
  "metadata": {
    "colab": {
      "provenance": [],
      "authorship_tag": "ABX9TyM8UZ6h1pJNtPpWxLKpqjlQ",
      "include_colab_link": true
    },
    "kernelspec": {
      "display_name": "Python 3",
      "name": "python3"
    },
    "language_info": {
      "name": "python"
    }
  },
  "nbformat": 4,
  "nbformat_minor": 0
}