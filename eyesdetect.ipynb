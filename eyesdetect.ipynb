{
  "nbformat": 4,
  "nbformat_minor": 0,
  "metadata": {
    "colab": {
      "provenance": [],
      "authorship_tag": "ABX9TyMEK35xENhay64iejOqOdvf",
      "include_colab_link": true
    },
    "kernelspec": {
      "name": "python3",
      "display_name": "Python 3"
    },
    "language_info": {
      "name": "python"
    }
  },
  "cells": [
    {
      "cell_type": "markdown",
      "metadata": {
        "id": "view-in-github",
        "colab_type": "text"
      },
      "source": [
        "<a href=\"https://colab.research.google.com/github/usamasansi/AiRespository/blob/main/eyesdetect.ipynb\" target=\"_parent\"><img src=\"https://colab.research.google.com/assets/colab-badge.svg\" alt=\"Open In Colab\"/></a>"
      ]
    },
    {
      "cell_type": "code",
      "execution_count": 1,
      "metadata": {
        "colab": {
          "base_uri": "https://localhost:8080/"
        },
        "id": "aeoEJfmuW9kQ",
        "outputId": "208c1c46-3c5a-4873-907a-c42b6d99bc57"
      },
      "outputs": [
        {
          "output_type": "stream",
          "name": "stdout",
          "text": [
            "Requirement already satisfied: torch in /usr/local/lib/python3.10/dist-packages (2.5.1+cu121)\n",
            "Requirement already satisfied: torchvision in /usr/local/lib/python3.10/dist-packages (0.20.1+cu121)\n",
            "Requirement already satisfied: opencv-python in /usr/local/lib/python3.10/dist-packages (4.10.0.84)\n",
            "Requirement already satisfied: matplotlib in /usr/local/lib/python3.10/dist-packages (3.8.0)\n",
            "Requirement already satisfied: filelock in /usr/local/lib/python3.10/dist-packages (from torch) (3.16.1)\n",
            "Requirement already satisfied: typing-extensions>=4.8.0 in /usr/local/lib/python3.10/dist-packages (from torch) (4.12.2)\n",
            "Requirement already satisfied: networkx in /usr/local/lib/python3.10/dist-packages (from torch) (3.4.2)\n",
            "Requirement already satisfied: jinja2 in /usr/local/lib/python3.10/dist-packages (from torch) (3.1.4)\n",
            "Requirement already satisfied: fsspec in /usr/local/lib/python3.10/dist-packages (from torch) (2024.10.0)\n",
            "Requirement already satisfied: sympy==1.13.1 in /usr/local/lib/python3.10/dist-packages (from torch) (1.13.1)\n",
            "Requirement already satisfied: mpmath<1.4,>=1.1.0 in /usr/local/lib/python3.10/dist-packages (from sympy==1.13.1->torch) (1.3.0)\n",
            "Requirement already satisfied: numpy in /usr/local/lib/python3.10/dist-packages (from torchvision) (1.26.4)\n",
            "Requirement already satisfied: pillow!=8.3.*,>=5.3.0 in /usr/local/lib/python3.10/dist-packages (from torchvision) (11.0.0)\n",
            "Requirement already satisfied: contourpy>=1.0.1 in /usr/local/lib/python3.10/dist-packages (from matplotlib) (1.3.1)\n",
            "Requirement already satisfied: cycler>=0.10 in /usr/local/lib/python3.10/dist-packages (from matplotlib) (0.12.1)\n",
            "Requirement already satisfied: fonttools>=4.22.0 in /usr/local/lib/python3.10/dist-packages (from matplotlib) (4.55.1)\n",
            "Requirement already satisfied: kiwisolver>=1.0.1 in /usr/local/lib/python3.10/dist-packages (from matplotlib) (1.4.7)\n",
            "Requirement already satisfied: packaging>=20.0 in /usr/local/lib/python3.10/dist-packages (from matplotlib) (24.2)\n",
            "Requirement already satisfied: pyparsing>=2.3.1 in /usr/local/lib/python3.10/dist-packages (from matplotlib) (3.2.0)\n",
            "Requirement already satisfied: python-dateutil>=2.7 in /usr/local/lib/python3.10/dist-packages (from matplotlib) (2.8.2)\n",
            "Requirement already satisfied: six>=1.5 in /usr/local/lib/python3.10/dist-packages (from python-dateutil>=2.7->matplotlib) (1.16.0)\n",
            "Requirement already satisfied: MarkupSafe>=2.0 in /usr/local/lib/python3.10/dist-packages (from jinja2->torch) (3.0.2)\n"
          ]
        }
      ],
      "source": [
        "!pip install torch torchvision opencv-python matplotlib\n"
      ]
    },
    {
      "cell_type": "code",
      "source": [
        "import cv2\n",
        "\n",
        "def preprocess_image(image_path):\n",
        "    # Load the image\n",
        "    img = cv2.imread(image_path)\n",
        "    gray = cv2.cvtColor(img, cv2.COLOR_BGR2GRAY)\n",
        "\n",
        "    # Load Haar Cascade for eye detection\n",
        "    eye_cascade = cv2.CascadeClassifier(cv2.data.haarcascades + 'haarcascade_eye.xml')\n",
        "    eyes = eye_cascade.detectMultiScale(gray, scaleFactor=1.1, minNeighbors=5)\n",
        "\n",
        "    eye_regions = []\n",
        "    for (x, y, w, h) in eyes:\n",
        "        eye_region = gray[y:y+h, x:x+w]\n",
        "        eye_resized = cv2.resize(eye_region, (64, 64))\n",
        "        eye_regions.append(eye_resized)\n",
        "\n",
        "    return eye_regions\n"
      ],
      "metadata": {
        "id": "Li_MDY8DXI-z"
      },
      "execution_count": 2,
      "outputs": []
    },
    {
      "cell_type": "code",
      "source": [
        "import torch\n",
        "import torch.nn as nn\n",
        "\n",
        "class EyeStatusModel(nn.Module):\n",
        "    def __init__(self):\n",
        "        super(EyeStatusModel, self).__init__()\n",
        "        self.conv1 = nn.Conv2d(1, 16, kernel_size=3, stride=1, padding=1)\n",
        "        self.conv2 = nn.Conv2d(16, 32, kernel_size=3, stride=1, padding=1)\n",
        "        self.pool = nn.MaxPool2d(2, 2)\n",
        "        self.fc1 = nn.Linear(32 * 16 * 16, 128)\n",
        "        self.fc2 = nn.Linear(128, 1)  # Binary classification (open/closed)\n",
        "\n",
        "    def forward(self, x):\n",
        "        x = self.pool(torch.relu(self.conv1(x)))\n",
        "        x = self.pool(torch.relu(self.conv2(x)))\n",
        "        x = x.view(-1, 32 * 16 * 16)\n",
        "        x = torch.relu(self.fc1(x))\n",
        "        x = torch.sigmoid(self.fc2(x))  # Sigmoid for binary output\n",
        "        return x\n"
      ],
      "metadata": {
        "id": "W3C6FZSaXUOt"
      },
      "execution_count": 3,
      "outputs": []
    },
    {
      "cell_type": "code",
      "source": [
        "import os\n",
        "import zipfile\n",
        "import cv2\n",
        "import numpy as np\n",
        "import torch\n",
        "import torch.nn as nn\n",
        "import torch.optim as optim\n",
        "from torch.utils.data import DataLoader, Dataset, random_split\n",
        "from torchvision import transforms\n",
        "\n",
        "# 1. Unzip the Dataset\n",
        "zip_path = \"/content/sample_data/archive (1).zip\"\n",
        "dataset_path = \"/content/data\"\n",
        "with zipfile.ZipFile(zip_path, 'r') as zip_ref:\n",
        "    zip_ref.extractall(dataset_path)\n",
        "\n",
        "# 2. Custom Dataset Class\n",
        "class EyeDataset(Dataset):\n",
        "    def __init__(self, image_dir, transform=None):\n",
        "        self.image_dir = image_dir\n",
        "        self.transform = transform\n",
        "        self.images = []\n",
        "        self.labels = []\n",
        "\n",
        "        for label, folder in enumerate([\"close eyes\", \"open eyes\"]):\n",
        "            folder_path = os.path.join(image_dir, folder)\n",
        "            for img_file in os.listdir(folder_path):\n",
        "                self.images.append(os.path.join(folder_path, img_file))\n",
        "                self.labels.append(label)\n",
        "\n",
        "    def __len__(self):\n",
        "        return len(self.images)\n",
        "\n",
        "    def __getitem__(self, idx):\n",
        "        img_path = self.images[idx]\n",
        "        label = self.labels[idx]\n",
        "        image = cv2.imread(img_path, cv2.IMREAD_GRAYSCALE)\n",
        "        image = cv2.resize(image, (64, 64))  # Resize to 64x64\n",
        "        if self.transform:\n",
        "            image = self.transform(image)\n",
        "        else:\n",
        "            image = torch.tensor(image, dtype=torch.float32).unsqueeze(0) / 255.0  # Normalize\n",
        "        return image, torch.tensor(label, dtype=torch.long)\n",
        "\n",
        "# 3. Load Data\n",
        "train_dir = os.path.join(dataset_path, \"data/train\")\n",
        "test_dir = os.path.join(dataset_path, \"data/test\")\n",
        "\n",
        "train_transform = transforms.Compose([\n",
        "    transforms.ToPILImage(),\n",
        "    transforms.RandomHorizontalFlip(),\n",
        "    transforms.RandomRotation(10),\n",
        "    transforms.ToTensor(),\n",
        "])\n",
        "\n",
        "train_dataset = EyeDataset(train_dir, transform=train_transform)\n",
        "test_dataset = EyeDataset(test_dir)\n",
        "\n",
        "train_size = int(0.8 * len(train_dataset))\n",
        "val_size = len(train_dataset) - train_size\n",
        "train_data, val_data = random_split(train_dataset, [train_size, val_size])\n",
        "\n",
        "train_loader = DataLoader(train_data, batch_size=32, shuffle=True)\n",
        "val_loader = DataLoader(val_data, batch_size=32, shuffle=False)\n",
        "test_loader = DataLoader(test_dataset, batch_size=32, shuffle=False)\n",
        "\n",
        "# 4. Define the Model\n",
        "class EyeStatusModel(nn.Module):\n",
        "    def __init__(self):\n",
        "        super(EyeStatusModel, self).__init__()\n",
        "        self.conv_layers = nn.Sequential(\n",
        "            nn.Conv2d(1, 32, kernel_size=3, stride=1, padding=1),\n",
        "            nn.ReLU(),\n",
        "            nn.MaxPool2d(kernel_size=2, stride=2),\n",
        "            nn.Conv2d(32, 64, kernel_size=3, stride=1, padding=1),\n",
        "            nn.ReLU(),\n",
        "            nn.MaxPool2d(kernel_size=2, stride=2),\n",
        "        )\n",
        "        self.fc_layers = nn.Sequential(\n",
        "            nn.Linear(64 * 16 * 16, 128),\n",
        "            nn.ReLU(),\n",
        "            nn.Dropout(0.5),\n",
        "            nn.Linear(128, 2),  # 2 classes: open, closed\n",
        "        )\n",
        "\n",
        "    def forward(self, x):\n",
        "        x = self.conv_layers(x)\n",
        "        x = x.view(x.size(0), -1)\n",
        "        x = self.fc_layers(x)\n",
        "        return x\n",
        "\n",
        "# 5. Train the Model\n",
        "device = torch.device(\"cuda\" if torch.cuda.is_available() else \"cpu\")\n",
        "model = EyeStatusModel().to(device)\n",
        "criterion = nn.CrossEntropyLoss()\n",
        "optimizer = optim.Adam(model.parameters(), lr=0.001)\n",
        "\n",
        "def train_model(model, train_loader, val_loader, epochs=10):\n",
        "    for epoch in range(epochs):\n",
        "        model.train()\n",
        "        train_loss = 0\n",
        "        for images, labels in train_loader:\n",
        "            images, labels = images.to(device), labels.to(device)\n",
        "            optimizer.zero_grad()\n",
        "            outputs = model(images)\n",
        "            loss = criterion(outputs, labels)\n",
        "            loss.backward()\n",
        "            optimizer.step()\n",
        "            train_loss += loss.item()\n",
        "\n",
        "        val_loss = 0\n",
        "        model.eval()\n",
        "        with torch.no_grad():\n",
        "            for images, labels in val_loader:\n",
        "                images, labels = images.to(device), labels.to(device)\n",
        "                outputs = model(images)\n",
        "                loss = criterion(outputs, labels)\n",
        "                val_loss += loss.item()\n",
        "\n",
        "        print(f\"Epoch {epoch+1}/{epochs}, Train Loss: {train_loss/len(train_loader)}, Val Loss: {val_loss/len(val_loader)}\")\n",
        "\n",
        "train_model(model, train_loader, val_loader)\n",
        "\n",
        "# 6. Prediction Function\n",
        "def predict_eye_status(image_path, model):\n",
        "    model.eval()\n",
        "    image = cv2.imread(image_path, cv2.IMREAD_GRAYSCALE)\n",
        "    image = cv2.resize(image, (64, 64))\n",
        "    image = torch.tensor(image, dtype=torch.float32).unsqueeze(0).unsqueeze(0) / 255.0\n",
        "    image = image.to(device)\n",
        "\n",
        "    with torch.no_grad():\n",
        "        output = model(image)\n",
        "        probabilities = torch.softmax(output, dim=1)\n",
        "        confidence, predicted = torch.max(probabilities, 1)\n",
        "        openness = confidence.item() * 100\n",
        "        status = \"open\" if predicted.item() == 1 else \"closed\"\n",
        "\n",
        "    return status, openness\n",
        "\n",
        "# 7. Test the Model\n",
        "test_image = os.path.join(test_dir, \"/content/sample_data/eyeopen.jpg\")  # Replace with a valid image path\n",
        "status, openness = predict_eye_status(test_image, model)\n",
        "print(f\"Eye Status: {status}, Openness: {openness:.2f}%\")"
      ],
      "metadata": {
        "colab": {
          "base_uri": "https://localhost:8080/"
        },
        "id": "GeGSjeRoXiZF",
        "outputId": "7a8c805f-837c-4ad6-9ce6-ee146e91d295"
      },
      "execution_count": 6,
      "outputs": [
        {
          "output_type": "stream",
          "name": "stdout",
          "text": [
            "Epoch 1/10, Train Loss: 0.233791609968804, Val Loss: 0.16421118393219614\n",
            "Epoch 2/10, Train Loss: 0.15544790875013412, Val Loss: 0.15513137785568396\n",
            "Epoch 3/10, Train Loss: 0.13332907401251512, Val Loss: 0.10121487780271823\n",
            "Epoch 4/10, Train Loss: 0.115822463313685, Val Loss: 0.09218696032335467\n",
            "Epoch 5/10, Train Loss: 0.10413209704952917, Val Loss: 0.07475913580372172\n",
            "Epoch 6/10, Train Loss: 0.09159012475262153, Val Loss: 0.07415791747931194\n",
            "Epoch 7/10, Train Loss: 0.08286108370786205, Val Loss: 0.06230779396554131\n",
            "Epoch 8/10, Train Loss: 0.07805794101022823, Val Loss: 0.05701738982798565\n",
            "Epoch 9/10, Train Loss: 0.07264745277049335, Val Loss: 0.06140029621460892\n",
            "Epoch 10/10, Train Loss: 0.068283895731048, Val Loss: 0.05434874674505117\n",
            "Eye Status: closed, Openness: 100.00%\n"
          ]
        }
      ]
    },
    {
      "cell_type": "code",
      "source": [
        "# 7. Test the Model\n",
        "test_image = os.path.join(test_dir, \"/content/sample_data/eyeclose.jpg\")  # Replace with a valid image path\n",
        "status, openness = predict_eye_status(test_image, model)\n",
        "print(f\"Eye Status: {status}, Openness: {openness:.2f}%\")"
      ],
      "metadata": {
        "colab": {
          "base_uri": "https://localhost:8080/"
        },
        "id": "HmhGkth2dZgF",
        "outputId": "e1a4cfee-938b-4189-e981-e252182cfc5b"
      },
      "execution_count": 7,
      "outputs": [
        {
          "output_type": "stream",
          "name": "stdout",
          "text": [
            "Eye Status: closed, Openness: 57.24%\n"
          ]
        }
      ]
    },
    {
      "cell_type": "code",
      "source": [
        "\n",
        "# 7. Test the Model\n",
        "test_image = os.path.join(test_dir, \"/content/sample_data/syeclosef.jpg\")  # Replace with a valid image path\n",
        "status, openness = predict_eye_status(test_image, model)\n",
        "print(f\"Eye Status: {status}, Openness: {openness:.2f}%\")"
      ],
      "metadata": {
        "colab": {
          "base_uri": "https://localhost:8080/"
        },
        "id": "uFyO25zXntz-",
        "outputId": "9a53f814-f583-4b03-d5e2-155c763d02d6"
      },
      "execution_count": 8,
      "outputs": [
        {
          "output_type": "stream",
          "name": "stdout",
          "text": [
            "Eye Status: closed, Openness: 100.00%\n"
          ]
        }
      ]
    },
    {
      "cell_type": "code",
      "source": [
        "# 7. Test the Model\n",
        "test_image = os.path.join(test_dir, \"/content/sample_data/eyeopen.jpg\")  # Replace with a valid image path\n",
        "status, openness = predict_eye_status(test_image, model)\n",
        "print(f\"Eye Status: {status}, Openness: {openness:.2f}%\")"
      ],
      "metadata": {
        "colab": {
          "base_uri": "https://localhost:8080/"
        },
        "id": "TyW7T8GHoeJi",
        "outputId": "db2e2fd5-5a25-49ca-8626-90b29b8a0eab"
      },
      "execution_count": 9,
      "outputs": [
        {
          "output_type": "stream",
          "name": "stdout",
          "text": [
            "Eye Status: closed, Openness: 100.00%\n"
          ]
        }
      ]
    },
    {
      "cell_type": "code",
      "source": [],
      "metadata": {
        "id": "sRv6b1f5oWfH"
      },
      "execution_count": null,
      "outputs": []
    }
  ]
}